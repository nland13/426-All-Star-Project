{
 "cells": [
  {
   "cell_type": "markdown",
   "metadata": {},
   "source": [
    "# Data Collection\n",
    "Load in libraries and datasets. The datasets come from Kaggle, internet sources, and a basketball reference scrape."
   ]
  },
  {
   "cell_type": "code",
   "execution_count": 1,
   "metadata": {
    "id": "I6zviOPFolDD"
   },
   "outputs": [],
   "source": [
    "# read in libraries\n",
    "import pandas as pd\n",
    "import numpy as np\n",
    "import pickle\n",
    "pd.options.mode.chained_assignment = None \n",
    "pd.errors.DtypeWarning = None"
   ]
  },
  {
   "cell_type": "code",
   "execution_count": 2,
   "metadata": {
    "id": "mm3ekEq3v4V7"
   },
   "outputs": [],
   "source": [
    "import pandas as pd\n",
    "import numpy as np\n",
    "from sklearn.linear_model import LogisticRegression\n",
    "from sklearn.model_selection import train_test_split\n",
    "from sklearn.model_selection import cross_val_score\n",
    "from urllib.request import urlopen\n",
    "from bs4 import BeautifulSoup\n",
    "import matplotlib.pyplot as plt\n",
    "%matplotlib inline\n",
    "import seaborn as sns\n",
    "from scipy import stats\n",
    "from scipy.stats import ttest_ind\n",
    "from sklearn.tree import DecisionTreeClassifier\n",
    "from sklearn.ensemble import RandomForestClassifier\n",
    "from sklearn.ensemble import GradientBoostingClassifier\n",
    "from sklearn.ensemble import VotingClassifier\n",
    "from sklearn.neural_network import MLPClassifier\n",
    "from sklearn.model_selection import train_test_split\n",
    "from sklearn.model_selection import cross_val_score\n",
    "from sklearn.preprocessing import MinMaxScaler\n",
    "from sklearn.model_selection import GridSearchCV\n",
    "from sklearn.pipeline import Pipeline\n",
    "from sklearn.metrics import recall_score\n",
    "from sklearn.metrics import precision_score\n",
    "from sklearn.metrics import confusion_matrix\n",
    "from sklearn.metrics import f1_score"
   ]
  },
  {
   "cell_type": "markdown",
   "metadata": {},
   "source": [
    "# Data Preparation\n",
    "Merge date to the individual games dataset (one row for every player in every game) and use month and date to label each row with a season. The convention used is the first year in the season is the name of the season (i.e. 2015-2016 is the 2015 season). Then, filter for the relevant time periods, which are the months September through January for the 2012 - 2020 seasons. The 2020 NBA Championship games must then be removed because they took place in September and Ocotber due to postponements caused by COVID-19. There is also an issue with the 2020 data being duplicated so duplicates are removed."
   ]
  },
  {
   "cell_type": "code",
   "execution_count": 3,
   "metadata": {
    "colab": {
     "base_uri": "https://localhost:8080/"
    },
    "id": "wNjxDaePo_t7",
    "outputId": "4328ecd8-667d-421d-d7ba-ff4844e76d2e"
   },
   "outputs": [
    {
     "name": "stderr",
     "output_type": "stream",
     "text": [
      "C:\\ProgramData\\Anaconda3\\lib\\site-packages\\IPython\\core\\interactiveshell.py:3165: DtypeWarning: Columns (6) have mixed types.Specify dtype option on import or set low_memory=False.\n",
      "  has_raised = await self.run_ast_nodes(code_ast.body, cell_name,\n"
     ]
    }
   ],
   "source": [
    "# read in datasets\n",
    "\n",
    "# kaggle datasets\n",
    "games = pd.read_csv('data/games.csv') \n",
    "games_details = pd.read_csv('data/games_details.csv')\n",
    "players = pd.read_csv('data/players.csv')\n",
    "ranking = pd.read_csv('data/ranking.csv')\n",
    "teams = pd.read_csv('data/teams.csv')\n",
    "\n",
    "# datasets created from internet\n",
    "jersey = pd.read_csv('data/jersey2.csv')\n",
    "twok = pd.read_csv('data/2kRank.csv')\n",
    "pacedata = {'season':[2012,2013,2014,2015,2016,2017,2018,2019,2020],\n",
    "           'pace':[92.0,93.9,93.9,95.8,96.4,97.3,100.0,100.3,99.2]}\n",
    "pace = pd.DataFrame(pacedata)\n",
    "\n",
    "# load in scraped all star info\n",
    "# get this from ASG Scrape\n",
    "all_star_appearances = pickle.load(open('data/all_star_appearances.pickle', 'rb'))"
   ]
  },
  {
   "cell_type": "code",
   "execution_count": 4,
   "metadata": {
    "id": "F3vy1XGGpiUu"
   },
   "outputs": [],
   "source": [
    "# join date to individual games stats dataset\n",
    "games_details2 = pd.merge(games_details, games[['GAME_DATE_EST', 'GAME_ID']], on = 'GAME_ID', how = 'left')\n",
    "\n",
    "# extract year and month for every row\n",
    "games_details2['year'] =  pd.to_numeric(games_details2['GAME_DATE_EST'].apply(lambda x: x.split('-')[0]))\n",
    "games_details2['month'] =  pd.to_numeric(games_details2['GAME_DATE_EST'].apply(lambda x: x.split('-')[1]))\n",
    "\n",
    "# label each row with season based on year and month\n",
    "games_details2['season'] = games_details2[['year','month']].apply(lambda x: x['year']-1 if (x['month']==1) else x['year'], axis=1)\n",
    "\n",
    "# keep only game info for September through January in the 2012-2020 seasons\n",
    "games_details2 = games_details2[games_details2['month'].isin([9,10,11,12,1])]\n",
    "games_details3 = games_details2[(games_details2['season']<2021) & (games_details2['season']>2011)]\n",
    "\n",
    "# get rid of 2020 finals\n",
    "games_details3 = games_details3[~((games_details3['season']==2020) & (games_details3['month'].isin([9,10])))]\n",
    "\n",
    "# drop duplicates\n",
    "games_details3 = games_details3.drop_duplicates(subset=['GAME_ID','PLAYER_ID'])"
   ]
  },
  {
   "cell_type": "markdown",
   "metadata": {},
   "source": [
    "Prepares the individual games dataset to be summarized by player and season. It does this by getting rid of rows where the players did not play, getting rid of one erroneous row, extracting the number of minutes they played, and adding a helper column to indicate the player did play in the game."
   ]
  },
  {
   "cell_type": "code",
   "execution_count": 5,
   "metadata": {
    "id": "Z3Zyz1m7plL4"
   },
   "outputs": [],
   "source": [
    "# get rid of rows with comments (means they did not play)\n",
    "games_details3 = games_details3[games_details3['COMMENT'].isnull()]\n",
    "\n",
    "# get rid of one erroneous row\n",
    "games_details3 = games_details3[games_details3['PTS'].notnull()]\n",
    "\n",
    "# extract number of minutes played\n",
    "games_details3['minutes'] =  pd.to_numeric(games_details3['MIN'].apply(lambda x: x.split(':')[0]))\n",
    "\n",
    "# add a column to indicate they played in that game (useful for aggregation in next step)\n",
    "games_details3['GP'] = 1"
   ]
  },
  {
   "cell_type": "markdown",
   "metadata": {},
   "source": [
    "Finds the summary statistics by player and season for all the basic stats collected using groupby. This dataset forms the basis for the main dataset going forward."
   ]
  },
  {
   "cell_type": "code",
   "execution_count": 6,
   "metadata": {
    "id": "ImekxOcxpoUc"
   },
   "outputs": [],
   "source": [
    "# uses groupby to summarize by player and season\n",
    "grouped = games_details3.groupby(['PLAYER_ID','season']).apply(lambda s: pd.Series({ \n",
    "    \"PLAYER_NAME\": s[\"PLAYER_NAME\"].mode()[0],\n",
    "    \"TEAM_ABBREVIATION\": s[\"TEAM_ABBREVIATION\"].mode()[0],\n",
    "    \"TEAM_ID\": s[\"TEAM_ID\"].mode()[0],\n",
    "    \"GP\": s[\"GP\"].sum(),\n",
    "    \"Minutes\": s[\"minutes\"].mean(),\n",
    "    \"FGM\": s[\"FGM\"].mean(),\n",
    "    \"FGA\": s[\"FGA\"].mean(),\n",
    "    \"FG3M\": s[\"FG3M\"].mean(),\n",
    "    \"FG3A\": s[\"FG3A\"].mean(),\n",
    "    \"FTM\": s[\"FTM\"].mean(),\n",
    "    \"FTA\": s[\"FTA\"].mean(),\n",
    "    \"OREB\": s[\"OREB\"].mean(),\n",
    "    \"DREB\": s[\"DREB\"].mean(),\n",
    "    \"AST\": s[\"AST\"].mean(),\n",
    "    \"STL\": s[\"STL\"].mean(),\n",
    "    \"BLK\": s[\"BLK\"].mean(),\n",
    "    \"TO\": s[\"TO\"].mean(), \n",
    "    \"PF\": s[\"PF\"].mean(),\n",
    "    \"PTS\": s[\"PTS\"].mean(),\n",
    "    \"PLUS_MINUS\": s[\"PLUS_MINUS\"].mean(),\n",
    "    \"Starting_Position\": s[\"START_POSITION\"].mode(),\n",
    "})).reset_index()"
   ]
  },
  {
   "cell_type": "markdown",
   "metadata": {},
   "source": [
    "Fix Starting_Position column so that the most common starting position for each player is displayed correctly and those with no information are labeled with \"None\"."
   ]
  },
  {
   "cell_type": "code",
   "execution_count": 7,
   "metadata": {
    "id": "ohnU2gq0pspz"
   },
   "outputs": [],
   "source": [
    "# Fix Starting_Position column\n",
    "grouped['Starting_Position'] = grouped['Starting_Position'].apply(lambda x: \"None\" if len(x)==0 else x[0])"
   ]
  },
  {
   "cell_type": "markdown",
   "metadata": {},
   "source": [
    "Adjust each season for pace by merging the pace data and dividing the relevant columns by the pace/100."
   ]
  },
  {
   "cell_type": "code",
   "execution_count": 8,
   "metadata": {
    "id": "sQ1lV8Pvpupx"
   },
   "outputs": [],
   "source": [
    "# merge pace data\n",
    "grouped = pd.merge(grouped, pace, on = ['season'], how = 'left')\n",
    "\n",
    "# divide pace data by 100\n",
    "grouped['pace'] = grouped['pace']/100\n",
    "\n",
    "# divide relevant statistics by pace/100\n",
    "grouped[['FGM','FGA','FG3M','FG3A','FTM','FTA','OREB',\n",
    "       'DREB', 'AST', 'STL', 'BLK', 'TO', 'PF', 'PTS', 'PLUS_MINUS']] = grouped[['FGM','FGA','FG3M','FG3A','FTM','FTA','OREB',\n",
    "       'DREB', 'AST', 'STL', 'BLK', 'TO', 'PF', 'PTS', 'PLUS_MINUS']].div(grouped.pace, axis=0)"
   ]
  },
  {
   "cell_type": "markdown",
   "metadata": {},
   "source": [
    "Calculate Advanced Metrics PER and True Shooting Percentage."
   ]
  },
  {
   "cell_type": "code",
   "execution_count": 9,
   "metadata": {
    "id": "dvWuM56LrC3L"
   },
   "outputs": [],
   "source": [
    "# PER\n",
    "grouped['PER'] = (grouped['FGM']*85.910 + grouped['STL']*53.897 + \n",
    "grouped['FG3M']*51.757 + grouped['FTM']*46.845 + grouped['BLK']*39.190\n",
    "+ grouped['OREB']*39.190+ grouped['AST']*34.677 + grouped['DREB']*14.707\n",
    "- grouped['PF']*17.174 - (grouped['FTA']-grouped['FTM'])*20.091 - (grouped['FGA']-grouped['FGM'])*39.190\n",
    "- grouped['TO']*53.897)*(1/grouped['Minutes'])\n",
    "\n",
    "# True Shooting Percentage\n",
    "grouped['TSP'] = grouped['PTS']/(2*(grouped['FGA']+.44*grouped['FTA']))"
   ]
  },
  {
   "cell_type": "markdown",
   "metadata": {},
   "source": [
    "Add each player's team win percentage and team conference for each season as of January 20. This is done first by keeping only the team ranking data as of January 20 for each season and adjusting the season ID to match the season. Then, this data is merged with the main data."
   ]
  },
  {
   "cell_type": "code",
   "execution_count": 10,
   "metadata": {
    "id": "UB65z5IvrFJx"
   },
   "outputs": [],
   "source": [
    "# keep only January 20 data\n",
    "ranking2 = ranking[(ranking['STANDINGSDATE'].apply(lambda x: x.split('-')[1])=='01') & (ranking['STANDINGSDATE'].apply(lambda x: x.split('-')[2])=='20')]\n",
    "\n",
    "# get season from the year\n",
    "ranking2['season'] = ranking2['SEASON_ID']-20000\n",
    "grouped = pd.merge(grouped, ranking2[['TEAM_ID', 'season','CONFERENCE','W_PCT']], on = ['TEAM_ID','season'], how = 'left')"
   ]
  },
  {
   "cell_type": "markdown",
   "metadata": {},
   "source": [
    "Add if a player's jersey was in the top 15 of best sellers the previous year by merging with jersey data."
   ]
  },
  {
   "cell_type": "code",
   "execution_count": 11,
   "metadata": {
    "id": "UwF9brB4rHne"
   },
   "outputs": [],
   "source": [
    "# merge jersey data\n",
    "grouped = pd.merge(grouped, jersey, on = ['season','PLAYER_ID'], how = 'left')"
   ]
  },
  {
   "cell_type": "markdown",
   "metadata": {},
   "source": [
    "Add the players' 2KRank for that season (released before the year starts)."
   ]
  },
  {
   "cell_type": "code",
   "execution_count": 12,
   "metadata": {
    "id": "i-4HqQacrJ1E"
   },
   "outputs": [],
   "source": [
    "# merge 2k data\n",
    "grouped = pd.merge(grouped, twok[['PLAYER_ID','season','2KRank']],on=['PLAYER_ID','season'],how='left')"
   ]
  },
  {
   "cell_type": "markdown",
   "metadata": {},
   "source": [
    "Adds All Star information for each player/season. Specifically, it adds wether a player was an All Star the previous year, the total amount of prior All Star selections a player had, and if a player was selected as an All Star that season (this is the target)."
   ]
  },
  {
   "cell_type": "code",
   "execution_count": 13,
   "metadata": {
    "id": "LAv7za6rrMKu"
   },
   "outputs": [],
   "source": [
    "# function that defines if a player was an All star the previous year\n",
    "def was_AS_last_year(row):\n",
    "    if row['season'] == 1999:\n",
    "        return 1 if 1998 in all_star_appearances[row['PLAYER_NAME']] else 0\n",
    "    return 1 if row['season'] in all_star_appearances[row['PLAYER_NAME']] else 0\n",
    "\n",
    "# adds if a player was an ALl star the previous year\n",
    "grouped['LastASG?'] = grouped[['PLAYER_NAME', 'season']].apply(was_AS_last_year, axis=1)\n",
    "\n",
    "# adds the total amount of prior selections a player had as of that year (not including that year)\n",
    "grouped['PriorASG'] = grouped[['PLAYER_NAME', 'season']].apply(lambda row : sum(y<=row['season'] for y in all_star_appearances[row['PLAYER_NAME']]), axis=1)\n",
    "\n",
    "# adds wether a player was selected as an all star that year\n",
    "grouped['Selected?'] = grouped[['PLAYER_NAME', 'season']].apply(lambda row : 1 if row['season']+1 in all_star_appearances[row['PLAYER_NAME']] else 0, axis=1)\n"
   ]
  },
  {
   "cell_type": "markdown",
   "metadata": {},
   "source": [
    "Adjusts for variability in games played up to that point in the season (especially relevant in 2020 season) by calculating the percentage of his team's games a player participated in."
   ]
  },
  {
   "cell_type": "code",
   "execution_count": 14,
   "metadata": {
    "id": "3dx7TK3LrPky"
   },
   "outputs": [],
   "source": [
    "# get total games played by each team up to that point in each season\n",
    "game_count1 = games_details3.groupby(['season','GAME_ID','TEAM_ID']).GP.mean().reset_index()\n",
    "game_count2 = game_count1.groupby(['season','TEAM_ID']).GP.sum().reset_index()\n",
    "\n",
    "# merges Games Played rate with main dataset\n",
    "grouped = pd.merge(grouped,game_count2,on=['season','TEAM_ID'],how='left')\n",
    "\n",
    "# calculates percentage games played\n",
    "grouped['GP_Per'] = grouped['GP_x'] / grouped['GP_y']"
   ]
  },
  {
   "cell_type": "markdown",
   "metadata": {},
   "source": [
    "Null data is dealt with next, setting missing stats values to zero and giving unranked players a very low rank."
   ]
  },
  {
   "cell_type": "code",
   "execution_count": 15,
   "metadata": {
    "id": "S8aZRYJPrRw9"
   },
   "outputs": [],
   "source": [
    "#fill null values\n",
    "grouped['PLUS_MINUS'] = grouped['PLUS_MINUS'].fillna(0)\n",
    "grouped['TSP'] = grouped['TSP'].fillna(0)\n",
    "grouped['PER'] = grouped['PER'].fillna(0)\n",
    "grouped['2KRank'] = grouped['2KRank'].fillna(500)"
   ]
  },
  {
   "cell_type": "code",
   "execution_count": 16,
   "metadata": {
    "colab": {
     "base_uri": "https://localhost:8080/"
    },
    "id": "p7X7aWu4rTWy",
    "outputId": "70a42ff4-970e-4b00-ee2c-75231cfe8181"
   },
   "outputs": [
    {
     "data": {
      "text/plain": [
       "PLAYER_ID            0\n",
       "season               0\n",
       "PLAYER_NAME          0\n",
       "TEAM_ABBREVIATION    0\n",
       "TEAM_ID              0\n",
       "GP_x                 0\n",
       "Minutes              0\n",
       "FGM                  0\n",
       "FGA                  0\n",
       "FG3M                 0\n",
       "FG3A                 0\n",
       "FTM                  0\n",
       "FTA                  0\n",
       "OREB                 0\n",
       "DREB                 0\n",
       "AST                  0\n",
       "STL                  0\n",
       "BLK                  0\n",
       "TO                   0\n",
       "PF                   0\n",
       "PTS                  0\n",
       "PLUS_MINUS           0\n",
       "Starting_Position    0\n",
       "pace                 0\n",
       "PER                  0\n",
       "TSP                  0\n",
       "CONFERENCE           0\n",
       "W_PCT                0\n",
       "Jersey               0\n",
       "2KRank               0\n",
       "LastASG?             0\n",
       "PriorASG             0\n",
       "Selected?            0\n",
       "GP_y                 0\n",
       "GP_Per               0\n",
       "dtype: int64"
      ]
     },
     "execution_count": 16,
     "metadata": {},
     "output_type": "execute_result"
    }
   ],
   "source": [
    "grouped.isnull().sum(axis = 0)\n"
   ]
  },
  {
   "cell_type": "markdown",
   "metadata": {},
   "source": [
    "In the 2018 season All Star game, Dirk Nowitzki and Dwyane Wade were added as special additions to honor their legacy. They are removed from the dataset to not skew the data."
   ]
  },
  {
   "cell_type": "code",
   "execution_count": 17,
   "metadata": {
    "id": "Q_tHksAJrWaG"
   },
   "outputs": [],
   "source": [
    "grouped.loc[(grouped['PLAYER_NAME']=='Dwyane Wade') & (grouped['season']==2018),'Selected?'] = 0\n",
    "grouped.loc[(grouped['PLAYER_NAME']=='Dirk Nowitzki') & (grouped['season']==2018),'Selected?'] = 0"
   ]
  },
  {
   "cell_type": "code",
   "execution_count": 18,
   "metadata": {
    "colab": {
     "base_uri": "https://localhost:8080/",
     "height": 473
    },
    "id": "csuIOFsksUku",
    "outputId": "5c541b0d-ca63-495b-895d-e0ab305f1db7"
   },
   "outputs": [
    {
     "data": {
      "text/html": [
       "<div>\n",
       "<style scoped>\n",
       "    .dataframe tbody tr th:only-of-type {\n",
       "        vertical-align: middle;\n",
       "    }\n",
       "\n",
       "    .dataframe tbody tr th {\n",
       "        vertical-align: top;\n",
       "    }\n",
       "\n",
       "    .dataframe thead th {\n",
       "        text-align: right;\n",
       "    }\n",
       "</style>\n",
       "<table border=\"1\" class=\"dataframe\">\n",
       "  <thead>\n",
       "    <tr style=\"text-align: right;\">\n",
       "      <th></th>\n",
       "      <th>PLAYER_ID</th>\n",
       "      <th>season</th>\n",
       "      <th>PLAYER_NAME</th>\n",
       "      <th>TEAM_ABBREVIATION</th>\n",
       "      <th>TEAM_ID</th>\n",
       "      <th>GP_x</th>\n",
       "      <th>Minutes</th>\n",
       "      <th>FGM</th>\n",
       "      <th>FGA</th>\n",
       "      <th>FG3M</th>\n",
       "      <th>...</th>\n",
       "      <th>TSP</th>\n",
       "      <th>CONFERENCE</th>\n",
       "      <th>W_PCT</th>\n",
       "      <th>Jersey</th>\n",
       "      <th>2KRank</th>\n",
       "      <th>LastASG?</th>\n",
       "      <th>PriorASG</th>\n",
       "      <th>Selected?</th>\n",
       "      <th>GP_y</th>\n",
       "      <th>GP_Per</th>\n",
       "    </tr>\n",
       "  </thead>\n",
       "  <tbody>\n",
       "    <tr>\n",
       "      <th>0</th>\n",
       "      <td>255</td>\n",
       "      <td>2012</td>\n",
       "      <td>Grant Hill</td>\n",
       "      <td>LAC</td>\n",
       "      <td>1610612746</td>\n",
       "      <td>12</td>\n",
       "      <td>15.500000</td>\n",
       "      <td>1.992754</td>\n",
       "      <td>4.800725</td>\n",
       "      <td>0.090580</td>\n",
       "      <td>...</td>\n",
       "      <td>0.459619</td>\n",
       "      <td>West</td>\n",
       "      <td>0.780</td>\n",
       "      <td>0</td>\n",
       "      <td>88.0</td>\n",
       "      <td>0</td>\n",
       "      <td>7</td>\n",
       "      <td>0</td>\n",
       "      <td>55</td>\n",
       "      <td>0.218182</td>\n",
       "    </tr>\n",
       "    <tr>\n",
       "      <th>1</th>\n",
       "      <td>467</td>\n",
       "      <td>2012</td>\n",
       "      <td>Jason Kidd</td>\n",
       "      <td>NYK</td>\n",
       "      <td>1610612752</td>\n",
       "      <td>43</td>\n",
       "      <td>27.674419</td>\n",
       "      <td>2.679474</td>\n",
       "      <td>6.597573</td>\n",
       "      <td>1.971689</td>\n",
       "      <td>...</td>\n",
       "      <td>0.582444</td>\n",
       "      <td>East</td>\n",
       "      <td>0.658</td>\n",
       "      <td>0</td>\n",
       "      <td>54.0</td>\n",
       "      <td>0</td>\n",
       "      <td>10</td>\n",
       "      <td>0</td>\n",
       "      <td>49</td>\n",
       "      <td>0.877551</td>\n",
       "    </tr>\n",
       "    <tr>\n",
       "      <th>2</th>\n",
       "      <td>703</td>\n",
       "      <td>2012</td>\n",
       "      <td>Kurt Thomas</td>\n",
       "      <td>NYK</td>\n",
       "      <td>1610612752</td>\n",
       "      <td>33</td>\n",
       "      <td>10.121212</td>\n",
       "      <td>1.119895</td>\n",
       "      <td>2.272727</td>\n",
       "      <td>0.000000</td>\n",
       "      <td>...</td>\n",
       "      <td>0.495182</td>\n",
       "      <td>East</td>\n",
       "      <td>0.658</td>\n",
       "      <td>0</td>\n",
       "      <td>299.0</td>\n",
       "      <td>0</td>\n",
       "      <td>0</td>\n",
       "      <td>0</td>\n",
       "      <td>49</td>\n",
       "      <td>0.673469</td>\n",
       "    </tr>\n",
       "    <tr>\n",
       "      <th>3</th>\n",
       "      <td>708</td>\n",
       "      <td>2012</td>\n",
       "      <td>Kevin Garnett</td>\n",
       "      <td>BOS</td>\n",
       "      <td>1610612738</td>\n",
       "      <td>49</td>\n",
       "      <td>28.959184</td>\n",
       "      <td>6.499556</td>\n",
       "      <td>12.843833</td>\n",
       "      <td>0.000000</td>\n",
       "      <td>...</td>\n",
       "      <td>0.546139</td>\n",
       "      <td>East</td>\n",
       "      <td>0.500</td>\n",
       "      <td>0</td>\n",
       "      <td>28.0</td>\n",
       "      <td>0</td>\n",
       "      <td>14</td>\n",
       "      <td>1</td>\n",
       "      <td>51</td>\n",
       "      <td>0.960784</td>\n",
       "    </tr>\n",
       "    <tr>\n",
       "      <th>4</th>\n",
       "      <td>708</td>\n",
       "      <td>2013</td>\n",
       "      <td>Kevin Garnett</td>\n",
       "      <td>BKN</td>\n",
       "      <td>1610612751</td>\n",
       "      <td>43</td>\n",
       "      <td>20.372093</td>\n",
       "      <td>3.071055</td>\n",
       "      <td>7.306140</td>\n",
       "      <td>0.000000</td>\n",
       "      <td>...</td>\n",
       "      <td>0.449756</td>\n",
       "      <td>East</td>\n",
       "      <td>0.436</td>\n",
       "      <td>1</td>\n",
       "      <td>29.0</td>\n",
       "      <td>1</td>\n",
       "      <td>15</td>\n",
       "      <td>0</td>\n",
       "      <td>51</td>\n",
       "      <td>0.843137</td>\n",
       "    </tr>\n",
       "    <tr>\n",
       "      <th>...</th>\n",
       "      <td>...</td>\n",
       "      <td>...</td>\n",
       "      <td>...</td>\n",
       "      <td>...</td>\n",
       "      <td>...</td>\n",
       "      <td>...</td>\n",
       "      <td>...</td>\n",
       "      <td>...</td>\n",
       "      <td>...</td>\n",
       "      <td>...</td>\n",
       "      <td>...</td>\n",
       "      <td>...</td>\n",
       "      <td>...</td>\n",
       "      <td>...</td>\n",
       "      <td>...</td>\n",
       "      <td>...</td>\n",
       "      <td>...</td>\n",
       "      <td>...</td>\n",
       "      <td>...</td>\n",
       "      <td>...</td>\n",
       "      <td>...</td>\n",
       "    </tr>\n",
       "    <tr>\n",
       "      <th>5011</th>\n",
       "      <td>1630270</td>\n",
       "      <td>2020</td>\n",
       "      <td>Xavier Sneed</td>\n",
       "      <td>CHA</td>\n",
       "      <td>1610612766</td>\n",
       "      <td>3</td>\n",
       "      <td>5.666667</td>\n",
       "      <td>0.672043</td>\n",
       "      <td>1.680108</td>\n",
       "      <td>0.672043</td>\n",
       "      <td>...</td>\n",
       "      <td>0.600000</td>\n",
       "      <td>East</td>\n",
       "      <td>0.429</td>\n",
       "      <td>0</td>\n",
       "      <td>500.0</td>\n",
       "      <td>0</td>\n",
       "      <td>0</td>\n",
       "      <td>0</td>\n",
       "      <td>24</td>\n",
       "      <td>0.125000</td>\n",
       "    </tr>\n",
       "    <tr>\n",
       "      <th>5012</th>\n",
       "      <td>1630271</td>\n",
       "      <td>2020</td>\n",
       "      <td>Brodric Thomas</td>\n",
       "      <td>HOU</td>\n",
       "      <td>1610612745</td>\n",
       "      <td>7</td>\n",
       "      <td>6.857143</td>\n",
       "      <td>0.720046</td>\n",
       "      <td>2.448157</td>\n",
       "      <td>0.288018</td>\n",
       "      <td>...</td>\n",
       "      <td>0.438596</td>\n",
       "      <td>West</td>\n",
       "      <td>0.308</td>\n",
       "      <td>0</td>\n",
       "      <td>500.0</td>\n",
       "      <td>0</td>\n",
       "      <td>0</td>\n",
       "      <td>0</td>\n",
       "      <td>22</td>\n",
       "      <td>0.318182</td>\n",
       "    </tr>\n",
       "    <tr>\n",
       "      <th>5013</th>\n",
       "      <td>1630273</td>\n",
       "      <td>2020</td>\n",
       "      <td>Freddie Gillespie</td>\n",
       "      <td>DAL</td>\n",
       "      <td>1610612742</td>\n",
       "      <td>1</td>\n",
       "      <td>5.000000</td>\n",
       "      <td>1.008065</td>\n",
       "      <td>2.016129</td>\n",
       "      <td>0.000000</td>\n",
       "      <td>...</td>\n",
       "      <td>0.500000</td>\n",
       "      <td>West</td>\n",
       "      <td>0.500</td>\n",
       "      <td>0</td>\n",
       "      <td>500.0</td>\n",
       "      <td>0</td>\n",
       "      <td>0</td>\n",
       "      <td>0</td>\n",
       "      <td>23</td>\n",
       "      <td>0.043478</td>\n",
       "    </tr>\n",
       "    <tr>\n",
       "      <th>5014</th>\n",
       "      <td>1630278</td>\n",
       "      <td>2020</td>\n",
       "      <td>Ade Murkey</td>\n",
       "      <td>MIN</td>\n",
       "      <td>1610612750</td>\n",
       "      <td>1</td>\n",
       "      <td>3.000000</td>\n",
       "      <td>0.000000</td>\n",
       "      <td>1.008065</td>\n",
       "      <td>0.000000</td>\n",
       "      <td>...</td>\n",
       "      <td>0.000000</td>\n",
       "      <td>West</td>\n",
       "      <td>0.231</td>\n",
       "      <td>0</td>\n",
       "      <td>500.0</td>\n",
       "      <td>0</td>\n",
       "      <td>0</td>\n",
       "      <td>0</td>\n",
       "      <td>22</td>\n",
       "      <td>0.045455</td>\n",
       "    </tr>\n",
       "    <tr>\n",
       "      <th>5015</th>\n",
       "      <td>1962937827</td>\n",
       "      <td>2017</td>\n",
       "      <td>Matt Matt</td>\n",
       "      <td>SAC</td>\n",
       "      <td>1610612758</td>\n",
       "      <td>1</td>\n",
       "      <td>0.000000</td>\n",
       "      <td>0.000000</td>\n",
       "      <td>0.000000</td>\n",
       "      <td>0.000000</td>\n",
       "      <td>...</td>\n",
       "      <td>0.000000</td>\n",
       "      <td>West</td>\n",
       "      <td>0.289</td>\n",
       "      <td>0</td>\n",
       "      <td>500.0</td>\n",
       "      <td>0</td>\n",
       "      <td>0</td>\n",
       "      <td>0</td>\n",
       "      <td>56</td>\n",
       "      <td>0.017857</td>\n",
       "    </tr>\n",
       "  </tbody>\n",
       "</table>\n",
       "<p>5016 rows × 35 columns</p>\n",
       "</div>"
      ],
      "text/plain": [
       "       PLAYER_ID  season        PLAYER_NAME TEAM_ABBREVIATION     TEAM_ID  \\\n",
       "0            255    2012         Grant Hill               LAC  1610612746   \n",
       "1            467    2012         Jason Kidd               NYK  1610612752   \n",
       "2            703    2012        Kurt Thomas               NYK  1610612752   \n",
       "3            708    2012      Kevin Garnett               BOS  1610612738   \n",
       "4            708    2013      Kevin Garnett               BKN  1610612751   \n",
       "...          ...     ...                ...               ...         ...   \n",
       "5011     1630270    2020       Xavier Sneed               CHA  1610612766   \n",
       "5012     1630271    2020     Brodric Thomas               HOU  1610612745   \n",
       "5013     1630273    2020  Freddie Gillespie               DAL  1610612742   \n",
       "5014     1630278    2020         Ade Murkey               MIN  1610612750   \n",
       "5015  1962937827    2017          Matt Matt               SAC  1610612758   \n",
       "\n",
       "      GP_x    Minutes       FGM        FGA      FG3M  ...       TSP  \\\n",
       "0       12  15.500000  1.992754   4.800725  0.090580  ...  0.459619   \n",
       "1       43  27.674419  2.679474   6.597573  1.971689  ...  0.582444   \n",
       "2       33  10.121212  1.119895   2.272727  0.000000  ...  0.495182   \n",
       "3       49  28.959184  6.499556  12.843833  0.000000  ...  0.546139   \n",
       "4       43  20.372093  3.071055   7.306140  0.000000  ...  0.449756   \n",
       "...    ...        ...       ...        ...       ...  ...       ...   \n",
       "5011     3   5.666667  0.672043   1.680108  0.672043  ...  0.600000   \n",
       "5012     7   6.857143  0.720046   2.448157  0.288018  ...  0.438596   \n",
       "5013     1   5.000000  1.008065   2.016129  0.000000  ...  0.500000   \n",
       "5014     1   3.000000  0.000000   1.008065  0.000000  ...  0.000000   \n",
       "5015     1   0.000000  0.000000   0.000000  0.000000  ...  0.000000   \n",
       "\n",
       "      CONFERENCE  W_PCT  Jersey  2KRank  LastASG?  PriorASG  Selected?  GP_y  \\\n",
       "0           West  0.780       0    88.0         0         7          0    55   \n",
       "1           East  0.658       0    54.0         0        10          0    49   \n",
       "2           East  0.658       0   299.0         0         0          0    49   \n",
       "3           East  0.500       0    28.0         0        14          1    51   \n",
       "4           East  0.436       1    29.0         1        15          0    51   \n",
       "...          ...    ...     ...     ...       ...       ...        ...   ...   \n",
       "5011        East  0.429       0   500.0         0         0          0    24   \n",
       "5012        West  0.308       0   500.0         0         0          0    22   \n",
       "5013        West  0.500       0   500.0         0         0          0    23   \n",
       "5014        West  0.231       0   500.0         0         0          0    22   \n",
       "5015        West  0.289       0   500.0         0         0          0    56   \n",
       "\n",
       "        GP_Per  \n",
       "0     0.218182  \n",
       "1     0.877551  \n",
       "2     0.673469  \n",
       "3     0.960784  \n",
       "4     0.843137  \n",
       "...        ...  \n",
       "5011  0.125000  \n",
       "5012  0.318182  \n",
       "5013  0.043478  \n",
       "5014  0.045455  \n",
       "5015  0.017857  \n",
       "\n",
       "[5016 rows x 35 columns]"
      ]
     },
     "execution_count": 18,
     "metadata": {},
     "output_type": "execute_result"
    }
   ],
   "source": [
    "grouped"
   ]
  },
  {
   "cell_type": "markdown",
   "metadata": {},
   "source": [
    "### EDA\n",
    "\n",
    "All Star Participants are picked on a variety of factors, including popular vote, media representation, and peer opinions. A large assumption we made in our project was that these popular or public opinions correlated highly with player statistics. We chose to only consider player statistics in our analysis, because these statistics tend to be highly regarded by the community, and are a good representation of how well a player does, in certain respects. \n",
    "\n",
    "We also used popularity data like Jersey sales to further inform our analysis.\n",
    "\n",
    "Our data set includes the following columns:"
   ]
  },
  {
   "cell_type": "code",
   "execution_count": 19,
   "metadata": {
    "colab": {
     "base_uri": "https://localhost:8080/"
    },
    "id": "MfyDpZrQrYbS",
    "outputId": "f5a8dc75-3ca2-46ea-c12c-644350042680"
   },
   "outputs": [
    {
     "data": {
      "text/plain": [
       "Index(['PLAYER_ID', 'season', 'PLAYER_NAME', 'TEAM_ABBREVIATION', 'TEAM_ID',\n",
       "       'GP_x', 'Minutes', 'FGM', 'FGA', 'FG3M', 'FG3A', 'FTM', 'FTA', 'OREB',\n",
       "       'DREB', 'AST', 'STL', 'BLK', 'TO', 'PF', 'PTS', 'PLUS_MINUS',\n",
       "       'Starting_Position', 'pace', 'PER', 'TSP', 'CONFERENCE', 'W_PCT',\n",
       "       'Jersey', '2KRank', 'LastASG?', 'PriorASG', 'Selected?', 'GP_y',\n",
       "       'GP_Per'],\n",
       "      dtype='object')"
      ]
     },
     "execution_count": 19,
     "metadata": {},
     "output_type": "execute_result"
    }
   ],
   "source": [
    "grouped.columns\n"
   ]
  },
  {
   "cell_type": "code",
   "execution_count": 20,
   "metadata": {},
   "outputs": [
    {
     "data": {
      "text/plain": [
       "0       0\n",
       "1       0\n",
       "2       0\n",
       "3       0\n",
       "4       1\n",
       "       ..\n",
       "5011    0\n",
       "5012    0\n",
       "5013    0\n",
       "5014    0\n",
       "5015    0\n",
       "Name: LastASG?, Length: 5016, dtype: int64"
      ]
     },
     "execution_count": 20,
     "metadata": {},
     "output_type": "execute_result"
    }
   ],
   "source": [
    "# random eda\n",
    "\n",
    "#grouped[(grouped['Selected?'] == 1) & (grouped['season'] == 2018)]\n",
    "#grouped[grouped['PLAYER_NAME']=='Klay Thompson']\n",
    "#grouped[grouped['PTS']>20].sort_values(by=['W_PCT'],ascending=False).head(10)\n",
    "grouped['LastASG?']"
   ]
  },
  {
   "cell_type": "markdown",
   "metadata": {},
   "source": [
    "The stats are computed as average per game, unless otherwise noted.\n",
    "Here is a table with the column definitions\n",
    "\n",
    "| Column/Variable Name | Definition |\n",
    "|----------------------|----------- |\n",
    "|`PLAYER_ID`| Unique identifier for the player |\n",
    "|`season`| Season or year of the data |\n",
    "|`PLAYER_NAME` | Name of the player |\n",
    "|`TEAM_ABBREVIATION`| The team the player is playing for|\n",
    "|`TEAM_ID`| Unique identifier for the player|\n",
    "|`Minutes` | Number of minutes the player was in the game|\n",
    "|`FGM` | Field Goals made (2-pointers and 3-pointers)|\n",
    "|`FGA` | Field Goals attempted (2-pointers and 3-pointers)|\n",
    "|`FG3M` | 3-pointers made |\n",
    "|`FG3A` | 3-pointers atempted |\n",
    "|`FTM` | Free Throws made |\n",
    "|`FTA`| Free Throws attempted |\n",
    "|`OREB`| The number of rebounds a player or team has collected while they were on offense |\n",
    "|` DREB`| The number of rebounds a player or team has collected while they were on defense |\n",
    "|`AST`| The number of assists made |\n",
    "|`STL`| The number of steals made while on defense |\n",
    "|`BLK` | The number of successful blocks made while on defense |\n",
    "|`TO` | The number of turnovers |\n",
    "|`PF` | Number of Personal fouls |\n",
    "|`PTS` | Number of Points the player scored |\n",
    "|`PLUS_MINUS`| point differential while player was in game |\n",
    "|`Starting_Position`| The position the player most often started in|\n",
    "|`pace` | The number of possessions per 48 minutes for a player|\n",
    "|`PER` | An advanced metric used to rank players |\n",
    "|`TSP` | True Shooting percentage |\n",
    "|`CONFERENCE` | Which conference the player is in |\n",
    "|`W_PCT` | *blank*|\n",
    "|`Jersey` | Boolean to indicate whether the players jersey was in the top 15 in sales |\n",
    "|`2KRank` | The overall 2K rank of the player before the season started |\n",
    "|`LastASG?` | Boolean of whether the player participated in the season prior's All Star game |\n",
    "|`PriorASG?` | Boolean of whether the player has participated in an All Star game prior to the current season |\n",
    "|`Selected?`| Whether the player was selected for the current year's All Star Game |\n",
    "|`GP_Per` | Percentage of games played in the season |\n"
   ]
  },
  {
   "cell_type": "code",
   "execution_count": 21,
   "metadata": {
    "id": "sdG-kLz-sJ8D"
   },
   "outputs": [],
   "source": [
    "df = grouped[['PLAYER_ID', 'season', 'PLAYER_NAME', 'TEAM_ABBREVIATION', 'TEAM_ID',\n",
    "       'GP_x', 'Minutes', 'FGM', 'FGA', 'FG3M', 'FG3A', 'FTM', 'FTA', 'OREB',\n",
    "       'DREB', 'AST', 'STL', 'BLK', 'TO', 'PF', 'PTS', 'PLUS_MINUS', 'PER', 'TSP',\n",
    "       'W_PCT', 'Jersey', '2KRank', 'LastASG?', 'PriorASG', 'Selected?', 'Starting_Position',\n",
    "       'pace', 'CONFERENCE', 'GP_y', 'GP_Per']]"
   ]
  },
  {
   "cell_type": "markdown",
   "metadata": {},
   "source": [
    "Let's take a look at some of the stats, and how they are spread:"
   ]
  },
  {
   "cell_type": "code",
   "execution_count": 22,
   "metadata": {},
   "outputs": [
    {
     "data": {
      "text/plain": [
       "array([2012, 2013, 2014, 2015, 2016, 2017, 2018, 2019, 2020], dtype=int64)"
      ]
     },
     "execution_count": 22,
     "metadata": {},
     "output_type": "execute_result"
    }
   ],
   "source": [
    "# Which seasons we are looking at\n",
    "grouped['season'].unique()"
   ]
  },
  {
   "cell_type": "code",
   "execution_count": 23,
   "metadata": {},
   "outputs": [
    {
     "data": {
      "text/html": [
       "<div>\n",
       "<style scoped>\n",
       "    .dataframe tbody tr th:only-of-type {\n",
       "        vertical-align: middle;\n",
       "    }\n",
       "\n",
       "    .dataframe tbody tr th {\n",
       "        vertical-align: top;\n",
       "    }\n",
       "\n",
       "    .dataframe thead th {\n",
       "        text-align: right;\n",
       "    }\n",
       "</style>\n",
       "<table border=\"1\" class=\"dataframe\">\n",
       "  <thead>\n",
       "    <tr style=\"text-align: right;\">\n",
       "      <th></th>\n",
       "      <th>season</th>\n",
       "      <th>PLAYER_NAME</th>\n",
       "      <th>TEAM_ABBREVIATION</th>\n",
       "      <th>Minutes</th>\n",
       "      <th>FGM</th>\n",
       "      <th>FGA</th>\n",
       "      <th>FG3M</th>\n",
       "      <th>FG3A</th>\n",
       "      <th>FTM</th>\n",
       "      <th>FTA</th>\n",
       "      <th>...</th>\n",
       "      <th>Starting_Position</th>\n",
       "      <th>pace</th>\n",
       "      <th>PER</th>\n",
       "      <th>TSP</th>\n",
       "      <th>CONFERENCE</th>\n",
       "      <th>W_PCT</th>\n",
       "      <th>2KRank</th>\n",
       "      <th>LastASG?</th>\n",
       "      <th>PriorASG</th>\n",
       "      <th>Selected?</th>\n",
       "    </tr>\n",
       "  </thead>\n",
       "  <tbody>\n",
       "    <tr>\n",
       "      <th>0</th>\n",
       "      <td>2012</td>\n",
       "      <td>Grant Hill</td>\n",
       "      <td>LAC</td>\n",
       "      <td>15.500000</td>\n",
       "      <td>1.992754</td>\n",
       "      <td>4.800725</td>\n",
       "      <td>0.090580</td>\n",
       "      <td>0.452899</td>\n",
       "      <td>0.996377</td>\n",
       "      <td>1.630435</td>\n",
       "      <td>...</td>\n",
       "      <td>None</td>\n",
       "      <td>0.920</td>\n",
       "      <td>8.279628</td>\n",
       "      <td>0.459619</td>\n",
       "      <td>West</td>\n",
       "      <td>0.780</td>\n",
       "      <td>88.0</td>\n",
       "      <td>0</td>\n",
       "      <td>7</td>\n",
       "      <td>0</td>\n",
       "    </tr>\n",
       "    <tr>\n",
       "      <th>1</th>\n",
       "      <td>2012</td>\n",
       "      <td>Jason Kidd</td>\n",
       "      <td>NYK</td>\n",
       "      <td>27.674419</td>\n",
       "      <td>2.679474</td>\n",
       "      <td>6.597573</td>\n",
       "      <td>1.971689</td>\n",
       "      <td>5.030334</td>\n",
       "      <td>0.834176</td>\n",
       "      <td>0.935288</td>\n",
       "      <td>...</td>\n",
       "      <td>G</td>\n",
       "      <td>0.920</td>\n",
       "      <td>16.473405</td>\n",
       "      <td>0.582444</td>\n",
       "      <td>East</td>\n",
       "      <td>0.658</td>\n",
       "      <td>54.0</td>\n",
       "      <td>0</td>\n",
       "      <td>10</td>\n",
       "      <td>0</td>\n",
       "    </tr>\n",
       "    <tr>\n",
       "      <th>2</th>\n",
       "      <td>2012</td>\n",
       "      <td>Kurt Thomas</td>\n",
       "      <td>NYK</td>\n",
       "      <td>10.121212</td>\n",
       "      <td>1.119895</td>\n",
       "      <td>2.272727</td>\n",
       "      <td>0.000000</td>\n",
       "      <td>0.000000</td>\n",
       "      <td>0.197628</td>\n",
       "      <td>0.428195</td>\n",
       "      <td>...</td>\n",
       "      <td>F</td>\n",
       "      <td>0.920</td>\n",
       "      <td>13.254729</td>\n",
       "      <td>0.495182</td>\n",
       "      <td>East</td>\n",
       "      <td>0.658</td>\n",
       "      <td>299.0</td>\n",
       "      <td>0</td>\n",
       "      <td>0</td>\n",
       "      <td>0</td>\n",
       "    </tr>\n",
       "    <tr>\n",
       "      <th>3</th>\n",
       "      <td>2012</td>\n",
       "      <td>Kevin Garnett</td>\n",
       "      <td>BOS</td>\n",
       "      <td>28.959184</td>\n",
       "      <td>6.499556</td>\n",
       "      <td>12.843833</td>\n",
       "      <td>0.000000</td>\n",
       "      <td>0.221828</td>\n",
       "      <td>2.639752</td>\n",
       "      <td>3.349601</td>\n",
       "      <td>...</td>\n",
       "      <td>C</td>\n",
       "      <td>0.920</td>\n",
       "      <td>20.875268</td>\n",
       "      <td>0.546139</td>\n",
       "      <td>East</td>\n",
       "      <td>0.500</td>\n",
       "      <td>28.0</td>\n",
       "      <td>0</td>\n",
       "      <td>14</td>\n",
       "      <td>1</td>\n",
       "    </tr>\n",
       "    <tr>\n",
       "      <th>4</th>\n",
       "      <td>2013</td>\n",
       "      <td>Kevin Garnett</td>\n",
       "      <td>BKN</td>\n",
       "      <td>20.372093</td>\n",
       "      <td>3.071055</td>\n",
       "      <td>7.306140</td>\n",
       "      <td>0.000000</td>\n",
       "      <td>0.074300</td>\n",
       "      <td>0.792530</td>\n",
       "      <td>0.916363</td>\n",
       "      <td>...</td>\n",
       "      <td>F</td>\n",
       "      <td>0.939</td>\n",
       "      <td>13.316450</td>\n",
       "      <td>0.449756</td>\n",
       "      <td>East</td>\n",
       "      <td>0.436</td>\n",
       "      <td>29.0</td>\n",
       "      <td>1</td>\n",
       "      <td>15</td>\n",
       "      <td>0</td>\n",
       "    </tr>\n",
       "    <tr>\n",
       "      <th>...</th>\n",
       "      <td>...</td>\n",
       "      <td>...</td>\n",
       "      <td>...</td>\n",
       "      <td>...</td>\n",
       "      <td>...</td>\n",
       "      <td>...</td>\n",
       "      <td>...</td>\n",
       "      <td>...</td>\n",
       "      <td>...</td>\n",
       "      <td>...</td>\n",
       "      <td>...</td>\n",
       "      <td>...</td>\n",
       "      <td>...</td>\n",
       "      <td>...</td>\n",
       "      <td>...</td>\n",
       "      <td>...</td>\n",
       "      <td>...</td>\n",
       "      <td>...</td>\n",
       "      <td>...</td>\n",
       "      <td>...</td>\n",
       "      <td>...</td>\n",
       "    </tr>\n",
       "    <tr>\n",
       "      <th>5011</th>\n",
       "      <td>2020</td>\n",
       "      <td>Xavier Sneed</td>\n",
       "      <td>CHA</td>\n",
       "      <td>5.666667</td>\n",
       "      <td>0.672043</td>\n",
       "      <td>1.680108</td>\n",
       "      <td>0.672043</td>\n",
       "      <td>1.680108</td>\n",
       "      <td>0.000000</td>\n",
       "      <td>0.000000</td>\n",
       "      <td>...</td>\n",
       "      <td>None</td>\n",
       "      <td>0.992</td>\n",
       "      <td>12.277989</td>\n",
       "      <td>0.600000</td>\n",
       "      <td>East</td>\n",
       "      <td>0.429</td>\n",
       "      <td>500.0</td>\n",
       "      <td>0</td>\n",
       "      <td>0</td>\n",
       "      <td>0</td>\n",
       "    </tr>\n",
       "    <tr>\n",
       "      <th>5012</th>\n",
       "      <td>2020</td>\n",
       "      <td>Brodric Thomas</td>\n",
       "      <td>HOU</td>\n",
       "      <td>6.857143</td>\n",
       "      <td>0.720046</td>\n",
       "      <td>2.448157</td>\n",
       "      <td>0.288018</td>\n",
       "      <td>1.440092</td>\n",
       "      <td>0.864055</td>\n",
       "      <td>1.152074</td>\n",
       "      <td>...</td>\n",
       "      <td>None</td>\n",
       "      <td>0.992</td>\n",
       "      <td>9.090243</td>\n",
       "      <td>0.438596</td>\n",
       "      <td>West</td>\n",
       "      <td>0.308</td>\n",
       "      <td>500.0</td>\n",
       "      <td>0</td>\n",
       "      <td>0</td>\n",
       "      <td>0</td>\n",
       "    </tr>\n",
       "    <tr>\n",
       "      <th>5013</th>\n",
       "      <td>2020</td>\n",
       "      <td>Freddie Gillespie</td>\n",
       "      <td>DAL</td>\n",
       "      <td>5.000000</td>\n",
       "      <td>1.008065</td>\n",
       "      <td>2.016129</td>\n",
       "      <td>0.000000</td>\n",
       "      <td>1.008065</td>\n",
       "      <td>0.000000</td>\n",
       "      <td>0.000000</td>\n",
       "      <td>...</td>\n",
       "      <td>None</td>\n",
       "      <td>0.992</td>\n",
       "      <td>-1.944355</td>\n",
       "      <td>0.500000</td>\n",
       "      <td>West</td>\n",
       "      <td>0.500</td>\n",
       "      <td>500.0</td>\n",
       "      <td>0</td>\n",
       "      <td>0</td>\n",
       "      <td>0</td>\n",
       "    </tr>\n",
       "    <tr>\n",
       "      <th>5014</th>\n",
       "      <td>2020</td>\n",
       "      <td>Ade Murkey</td>\n",
       "      <td>MIN</td>\n",
       "      <td>3.000000</td>\n",
       "      <td>0.000000</td>\n",
       "      <td>1.008065</td>\n",
       "      <td>0.000000</td>\n",
       "      <td>0.000000</td>\n",
       "      <td>0.000000</td>\n",
       "      <td>0.000000</td>\n",
       "      <td>...</td>\n",
       "      <td>None</td>\n",
       "      <td>0.992</td>\n",
       "      <td>-5.770833</td>\n",
       "      <td>0.000000</td>\n",
       "      <td>West</td>\n",
       "      <td>0.231</td>\n",
       "      <td>500.0</td>\n",
       "      <td>0</td>\n",
       "      <td>0</td>\n",
       "      <td>0</td>\n",
       "    </tr>\n",
       "    <tr>\n",
       "      <th>5015</th>\n",
       "      <td>2017</td>\n",
       "      <td>Matt Matt</td>\n",
       "      <td>SAC</td>\n",
       "      <td>0.000000</td>\n",
       "      <td>0.000000</td>\n",
       "      <td>0.000000</td>\n",
       "      <td>0.000000</td>\n",
       "      <td>0.000000</td>\n",
       "      <td>0.000000</td>\n",
       "      <td>0.000000</td>\n",
       "      <td>...</td>\n",
       "      <td>None</td>\n",
       "      <td>0.973</td>\n",
       "      <td>0.000000</td>\n",
       "      <td>0.000000</td>\n",
       "      <td>West</td>\n",
       "      <td>0.289</td>\n",
       "      <td>500.0</td>\n",
       "      <td>0</td>\n",
       "      <td>0</td>\n",
       "      <td>0</td>\n",
       "    </tr>\n",
       "  </tbody>\n",
       "</table>\n",
       "<p>5016 rows × 28 columns</p>\n",
       "</div>"
      ],
      "text/plain": [
       "      season        PLAYER_NAME TEAM_ABBREVIATION    Minutes       FGM  \\\n",
       "0       2012         Grant Hill               LAC  15.500000  1.992754   \n",
       "1       2012         Jason Kidd               NYK  27.674419  2.679474   \n",
       "2       2012        Kurt Thomas               NYK  10.121212  1.119895   \n",
       "3       2012      Kevin Garnett               BOS  28.959184  6.499556   \n",
       "4       2013      Kevin Garnett               BKN  20.372093  3.071055   \n",
       "...      ...                ...               ...        ...       ...   \n",
       "5011    2020       Xavier Sneed               CHA   5.666667  0.672043   \n",
       "5012    2020     Brodric Thomas               HOU   6.857143  0.720046   \n",
       "5013    2020  Freddie Gillespie               DAL   5.000000  1.008065   \n",
       "5014    2020         Ade Murkey               MIN   3.000000  0.000000   \n",
       "5015    2017          Matt Matt               SAC   0.000000  0.000000   \n",
       "\n",
       "            FGA      FG3M      FG3A       FTM       FTA  ...  \\\n",
       "0      4.800725  0.090580  0.452899  0.996377  1.630435  ...   \n",
       "1      6.597573  1.971689  5.030334  0.834176  0.935288  ...   \n",
       "2      2.272727  0.000000  0.000000  0.197628  0.428195  ...   \n",
       "3     12.843833  0.000000  0.221828  2.639752  3.349601  ...   \n",
       "4      7.306140  0.000000  0.074300  0.792530  0.916363  ...   \n",
       "...         ...       ...       ...       ...       ...  ...   \n",
       "5011   1.680108  0.672043  1.680108  0.000000  0.000000  ...   \n",
       "5012   2.448157  0.288018  1.440092  0.864055  1.152074  ...   \n",
       "5013   2.016129  0.000000  1.008065  0.000000  0.000000  ...   \n",
       "5014   1.008065  0.000000  0.000000  0.000000  0.000000  ...   \n",
       "5015   0.000000  0.000000  0.000000  0.000000  0.000000  ...   \n",
       "\n",
       "      Starting_Position   pace        PER       TSP  CONFERENCE  W_PCT  \\\n",
       "0                  None  0.920   8.279628  0.459619        West  0.780   \n",
       "1                     G  0.920  16.473405  0.582444        East  0.658   \n",
       "2                     F  0.920  13.254729  0.495182        East  0.658   \n",
       "3                     C  0.920  20.875268  0.546139        East  0.500   \n",
       "4                     F  0.939  13.316450  0.449756        East  0.436   \n",
       "...                 ...    ...        ...       ...         ...    ...   \n",
       "5011               None  0.992  12.277989  0.600000        East  0.429   \n",
       "5012               None  0.992   9.090243  0.438596        West  0.308   \n",
       "5013               None  0.992  -1.944355  0.500000        West  0.500   \n",
       "5014               None  0.992  -5.770833  0.000000        West  0.231   \n",
       "5015               None  0.973   0.000000  0.000000        West  0.289   \n",
       "\n",
       "      2KRank  LastASG? PriorASG  Selected?  \n",
       "0       88.0         0        7          0  \n",
       "1       54.0         0       10          0  \n",
       "2      299.0         0        0          0  \n",
       "3       28.0         0       14          1  \n",
       "4       29.0         1       15          0  \n",
       "...      ...       ...      ...        ...  \n",
       "5011   500.0         0        0          0  \n",
       "5012   500.0         0        0          0  \n",
       "5013   500.0         0        0          0  \n",
       "5014   500.0         0        0          0  \n",
       "5015   500.0         0        0          0  \n",
       "\n",
       "[5016 rows x 28 columns]"
      ]
     },
     "execution_count": 23,
     "metadata": {},
     "output_type": "execute_result"
    }
   ],
   "source": [
    "stats = grouped.drop(['PLAYER_ID', 'TEAM_ID', 'GP_x', 'PLUS_MINUS', 'Jersey', 'GP_y', 'GP_Per'], 1)\n",
    "stats"
   ]
  },
  {
   "cell_type": "code",
   "execution_count": 24,
   "metadata": {},
   "outputs": [
    {
     "data": {
      "text/plain": [
       "<seaborn.axisgrid.FacetGrid at 0x223a1f5edc0>"
      ]
     },
     "execution_count": 24,
     "metadata": {},
     "output_type": "execute_result"
    },
    {
     "data": {
      "image/png": "[encoded data removed]",
      "text/plain": [
       "<Figure size 421.5x360 with 1 Axes>"
      ]
     },
     "metadata": {
      "needs_background": "light"
     },
     "output_type": "display_data"
    }
   ],
   "source": [
    "# Distribution of Minutes\n",
    "sns.displot(data = stats, x = 'Minutes', hue = 'season', kind = 'kde', alpha = 0.6)"
   ]
  },
  {
   "cell_type": "code",
   "execution_count": 25,
   "metadata": {},
   "outputs": [
    {
     "data": {
      "text/plain": [
       "count    5016.000000\n",
       "mean       17.677163\n",
       "std         9.269223\n",
       "min         0.000000\n",
       "25%         9.925595\n",
       "50%        16.915780\n",
       "75%        25.410592\n",
       "max        38.130435\n",
       "Name: Minutes, dtype: float64"
      ]
     },
     "execution_count": 25,
     "metadata": {},
     "output_type": "execute_result"
    }
   ],
   "source": [
    "stats.Minutes.describe()"
   ]
  },
  {
   "cell_type": "code",
   "execution_count": 26,
   "metadata": {},
   "outputs": [
    {
     "data": {
      "text/html": [
       "<div>\n",
       "<style scoped>\n",
       "    .dataframe tbody tr th:only-of-type {\n",
       "        vertical-align: middle;\n",
       "    }\n",
       "\n",
       "    .dataframe tbody tr th {\n",
       "        vertical-align: top;\n",
       "    }\n",
       "\n",
       "    .dataframe thead th {\n",
       "        text-align: right;\n",
       "    }\n",
       "</style>\n",
       "<table border=\"1\" class=\"dataframe\">\n",
       "  <thead>\n",
       "    <tr style=\"text-align: right;\">\n",
       "      <th></th>\n",
       "      <th>season</th>\n",
       "      <th>Minutes</th>\n",
       "      <th>PER</th>\n",
       "    </tr>\n",
       "    <tr>\n",
       "      <th>PLAYER_NAME</th>\n",
       "      <th></th>\n",
       "      <th></th>\n",
       "      <th></th>\n",
       "    </tr>\n",
       "  </thead>\n",
       "  <tbody>\n",
       "    <tr>\n",
       "      <th>Taylor Braun</th>\n",
       "      <td>2017.000000</td>\n",
       "      <td>0.000000</td>\n",
       "      <td>inf</td>\n",
       "    </tr>\n",
       "    <tr>\n",
       "      <th>Zhou Qi</th>\n",
       "      <td>2017.500000</td>\n",
       "      <td>2.305556</td>\n",
       "      <td>inf</td>\n",
       "    </tr>\n",
       "    <tr>\n",
       "      <th>Levi Randolph</th>\n",
       "      <td>2017.666667</td>\n",
       "      <td>8.444444</td>\n",
       "      <td>inf</td>\n",
       "    </tr>\n",
       "    <tr>\n",
       "      <th>Daniel Dixon</th>\n",
       "      <td>2017.000000</td>\n",
       "      <td>0.000000</td>\n",
       "      <td>inf</td>\n",
       "    </tr>\n",
       "    <tr>\n",
       "      <th>Christ Koumadje</th>\n",
       "      <td>2019.000000</td>\n",
       "      <td>3.000000</td>\n",
       "      <td>98.742772</td>\n",
       "    </tr>\n",
       "    <tr>\n",
       "      <th>Eric Mika</th>\n",
       "      <td>2019.000000</td>\n",
       "      <td>3.000000</td>\n",
       "      <td>95.493852</td>\n",
       "    </tr>\n",
       "    <tr>\n",
       "      <th>Kahlil Whitney</th>\n",
       "      <td>2020.000000</td>\n",
       "      <td>1.000000</td>\n",
       "      <td>94.445565</td>\n",
       "    </tr>\n",
       "    <tr>\n",
       "      <th>Kaiser Gates</th>\n",
       "      <td>2018.500000</td>\n",
       "      <td>4.250000</td>\n",
       "      <td>90.483834</td>\n",
       "    </tr>\n",
       "    <tr>\n",
       "      <th>Derek Willis</th>\n",
       "      <td>2017.000000</td>\n",
       "      <td>2.000000</td>\n",
       "      <td>78.301131</td>\n",
       "    </tr>\n",
       "    <tr>\n",
       "      <th>Stephen Holt</th>\n",
       "      <td>2014.000000</td>\n",
       "      <td>2.000000</td>\n",
       "      <td>73.305112</td>\n",
       "    </tr>\n",
       "    <tr>\n",
       "      <th>Melo Trimble</th>\n",
       "      <td>2017.000000</td>\n",
       "      <td>2.000000</td>\n",
       "      <td>72.153135</td>\n",
       "    </tr>\n",
       "    <tr>\n",
       "      <th>Jeremy Senglin</th>\n",
       "      <td>2017.000000</td>\n",
       "      <td>5.000000</td>\n",
       "      <td>66.745735</td>\n",
       "    </tr>\n",
       "    <tr>\n",
       "      <th>Johnny Hamilton</th>\n",
       "      <td>2018.000000</td>\n",
       "      <td>5.000000</td>\n",
       "      <td>65.144800</td>\n",
       "    </tr>\n",
       "    <tr>\n",
       "      <th>J.J. Avila</th>\n",
       "      <td>2016.000000</td>\n",
       "      <td>2.000000</td>\n",
       "      <td>58.757780</td>\n",
       "    </tr>\n",
       "    <tr>\n",
       "      <th>Javin DeLaurier</th>\n",
       "      <td>2020.000000</td>\n",
       "      <td>3.000000</td>\n",
       "      <td>58.598790</td>\n",
       "    </tr>\n",
       "    <tr>\n",
       "      <th>Myck Kabongo</th>\n",
       "      <td>2013.000000</td>\n",
       "      <td>5.000000</td>\n",
       "      <td>54.550799</td>\n",
       "    </tr>\n",
       "    <tr>\n",
       "      <th>Jahlil Tripp</th>\n",
       "      <td>2020.000000</td>\n",
       "      <td>3.000000</td>\n",
       "      <td>52.085517</td>\n",
       "    </tr>\n",
       "    <tr>\n",
       "      <th>Walker Russell</th>\n",
       "      <td>2012.000000</td>\n",
       "      <td>6.000000</td>\n",
       "      <td>47.304710</td>\n",
       "    </tr>\n",
       "    <tr>\n",
       "      <th>Tyler Cook</th>\n",
       "      <td>2019.500000</td>\n",
       "      <td>2.961538</td>\n",
       "      <td>47.231012</td>\n",
       "    </tr>\n",
       "    <tr>\n",
       "      <th>V.J. Beachem</th>\n",
       "      <td>2017.000000</td>\n",
       "      <td>3.000000</td>\n",
       "      <td>46.349435</td>\n",
       "    </tr>\n",
       "  </tbody>\n",
       "</table>\n",
       "</div>"
      ],
      "text/plain": [
       "                      season   Minutes        PER\n",
       "PLAYER_NAME                                      \n",
       "Taylor Braun     2017.000000  0.000000        inf\n",
       "Zhou Qi          2017.500000  2.305556        inf\n",
       "Levi Randolph    2017.666667  8.444444        inf\n",
       "Daniel Dixon     2017.000000  0.000000        inf\n",
       "Christ Koumadje  2019.000000  3.000000  98.742772\n",
       "Eric Mika        2019.000000  3.000000  95.493852\n",
       "Kahlil Whitney   2020.000000  1.000000  94.445565\n",
       "Kaiser Gates     2018.500000  4.250000  90.483834\n",
       "Derek Willis     2017.000000  2.000000  78.301131\n",
       "Stephen Holt     2014.000000  2.000000  73.305112\n",
       "Melo Trimble     2017.000000  2.000000  72.153135\n",
       "Jeremy Senglin   2017.000000  5.000000  66.745735\n",
       "Johnny Hamilton  2018.000000  5.000000  65.144800\n",
       "J.J. Avila       2016.000000  2.000000  58.757780\n",
       "Javin DeLaurier  2020.000000  3.000000  58.598790\n",
       "Myck Kabongo     2013.000000  5.000000  54.550799\n",
       "Jahlil Tripp     2020.000000  3.000000  52.085517\n",
       "Walker Russell   2012.000000  6.000000  47.304710\n",
       "Tyler Cook       2019.500000  2.961538  47.231012\n",
       "V.J. Beachem     2017.000000  3.000000  46.349435"
      ]
     },
     "execution_count": 26,
     "metadata": {},
     "output_type": "execute_result"
    }
   ],
   "source": [
    "# Top 20 players by PER\n",
    "stats[['PLAYER_NAME','season', 'Minutes','PER']].groupby(['PLAYER_NAME']).mean('PER').sort_values('PER', ascending = False).head(20)"
   ]
  },
  {
   "cell_type": "code",
   "execution_count": 27,
   "metadata": {},
   "outputs": [],
   "source": [
    "#stats.groupby('PLAYER_NAME').describe()"
   ]
  },
  {
   "cell_type": "code",
   "execution_count": 28,
   "metadata": {},
   "outputs": [],
   "source": [
    "#sns.pairplot(data = stats, kind = 'kde', dropna = True)"
   ]
  },
  {
   "cell_type": "markdown",
   "metadata": {},
   "source": [
    "# Methods"
   ]
  },
  {
   "cell_type": "code",
   "execution_count": 29,
   "metadata": {
    "colab": {
     "base_uri": "https://localhost:8080/",
     "height": 473
    },
    "id": "l1W4t8BZszUE",
    "outputId": "c9f4aba9-b1d5-4d27-91c9-f9441010c2ed"
   },
   "outputs": [
    {
     "data": {
      "text/html": [
       "<div>\n",
       "<style scoped>\n",
       "    .dataframe tbody tr th:only-of-type {\n",
       "        vertical-align: middle;\n",
       "    }\n",
       "\n",
       "    .dataframe tbody tr th {\n",
       "        vertical-align: top;\n",
       "    }\n",
       "\n",
       "    .dataframe thead th {\n",
       "        text-align: right;\n",
       "    }\n",
       "</style>\n",
       "<table border=\"1\" class=\"dataframe\">\n",
       "  <thead>\n",
       "    <tr style=\"text-align: right;\">\n",
       "      <th></th>\n",
       "      <th>PLAYER_ID</th>\n",
       "      <th>season</th>\n",
       "      <th>PLAYER_NAME</th>\n",
       "      <th>TEAM_ABBREVIATION</th>\n",
       "      <th>TEAM_ID</th>\n",
       "      <th>GP_x</th>\n",
       "      <th>Minutes</th>\n",
       "      <th>FGM</th>\n",
       "      <th>FGA</th>\n",
       "      <th>FG3M</th>\n",
       "      <th>...</th>\n",
       "      <th>Jersey</th>\n",
       "      <th>2KRank</th>\n",
       "      <th>LastASG?</th>\n",
       "      <th>PriorASG</th>\n",
       "      <th>Selected?</th>\n",
       "      <th>Starting_Position</th>\n",
       "      <th>pace</th>\n",
       "      <th>CONFERENCE</th>\n",
       "      <th>GP_y</th>\n",
       "      <th>GP_Per</th>\n",
       "    </tr>\n",
       "  </thead>\n",
       "  <tbody>\n",
       "    <tr>\n",
       "      <th>0</th>\n",
       "      <td>255</td>\n",
       "      <td>2012</td>\n",
       "      <td>Grant Hill</td>\n",
       "      <td>LAC</td>\n",
       "      <td>1610612746</td>\n",
       "      <td>12</td>\n",
       "      <td>15.500000</td>\n",
       "      <td>1.992754</td>\n",
       "      <td>4.800725</td>\n",
       "      <td>0.090580</td>\n",
       "      <td>...</td>\n",
       "      <td>0</td>\n",
       "      <td>88.0</td>\n",
       "      <td>0</td>\n",
       "      <td>7</td>\n",
       "      <td>0</td>\n",
       "      <td>None</td>\n",
       "      <td>0.920</td>\n",
       "      <td>West</td>\n",
       "      <td>55</td>\n",
       "      <td>0.218182</td>\n",
       "    </tr>\n",
       "    <tr>\n",
       "      <th>1</th>\n",
       "      <td>467</td>\n",
       "      <td>2012</td>\n",
       "      <td>Jason Kidd</td>\n",
       "      <td>NYK</td>\n",
       "      <td>1610612752</td>\n",
       "      <td>43</td>\n",
       "      <td>27.674419</td>\n",
       "      <td>2.679474</td>\n",
       "      <td>6.597573</td>\n",
       "      <td>1.971689</td>\n",
       "      <td>...</td>\n",
       "      <td>0</td>\n",
       "      <td>54.0</td>\n",
       "      <td>0</td>\n",
       "      <td>10</td>\n",
       "      <td>0</td>\n",
       "      <td>G</td>\n",
       "      <td>0.920</td>\n",
       "      <td>East</td>\n",
       "      <td>49</td>\n",
       "      <td>0.877551</td>\n",
       "    </tr>\n",
       "    <tr>\n",
       "      <th>2</th>\n",
       "      <td>703</td>\n",
       "      <td>2012</td>\n",
       "      <td>Kurt Thomas</td>\n",
       "      <td>NYK</td>\n",
       "      <td>1610612752</td>\n",
       "      <td>33</td>\n",
       "      <td>10.121212</td>\n",
       "      <td>1.119895</td>\n",
       "      <td>2.272727</td>\n",
       "      <td>0.000000</td>\n",
       "      <td>...</td>\n",
       "      <td>0</td>\n",
       "      <td>299.0</td>\n",
       "      <td>0</td>\n",
       "      <td>0</td>\n",
       "      <td>0</td>\n",
       "      <td>F</td>\n",
       "      <td>0.920</td>\n",
       "      <td>East</td>\n",
       "      <td>49</td>\n",
       "      <td>0.673469</td>\n",
       "    </tr>\n",
       "    <tr>\n",
       "      <th>3</th>\n",
       "      <td>708</td>\n",
       "      <td>2012</td>\n",
       "      <td>Kevin Garnett</td>\n",
       "      <td>BOS</td>\n",
       "      <td>1610612738</td>\n",
       "      <td>49</td>\n",
       "      <td>28.959184</td>\n",
       "      <td>6.499556</td>\n",
       "      <td>12.843833</td>\n",
       "      <td>0.000000</td>\n",
       "      <td>...</td>\n",
       "      <td>0</td>\n",
       "      <td>28.0</td>\n",
       "      <td>0</td>\n",
       "      <td>14</td>\n",
       "      <td>1</td>\n",
       "      <td>C</td>\n",
       "      <td>0.920</td>\n",
       "      <td>East</td>\n",
       "      <td>51</td>\n",
       "      <td>0.960784</td>\n",
       "    </tr>\n",
       "    <tr>\n",
       "      <th>4</th>\n",
       "      <td>708</td>\n",
       "      <td>2013</td>\n",
       "      <td>Kevin Garnett</td>\n",
       "      <td>BKN</td>\n",
       "      <td>1610612751</td>\n",
       "      <td>43</td>\n",
       "      <td>20.372093</td>\n",
       "      <td>3.071055</td>\n",
       "      <td>7.306140</td>\n",
       "      <td>0.000000</td>\n",
       "      <td>...</td>\n",
       "      <td>1</td>\n",
       "      <td>29.0</td>\n",
       "      <td>1</td>\n",
       "      <td>15</td>\n",
       "      <td>0</td>\n",
       "      <td>F</td>\n",
       "      <td>0.939</td>\n",
       "      <td>East</td>\n",
       "      <td>51</td>\n",
       "      <td>0.843137</td>\n",
       "    </tr>\n",
       "    <tr>\n",
       "      <th>...</th>\n",
       "      <td>...</td>\n",
       "      <td>...</td>\n",
       "      <td>...</td>\n",
       "      <td>...</td>\n",
       "      <td>...</td>\n",
       "      <td>...</td>\n",
       "      <td>...</td>\n",
       "      <td>...</td>\n",
       "      <td>...</td>\n",
       "      <td>...</td>\n",
       "      <td>...</td>\n",
       "      <td>...</td>\n",
       "      <td>...</td>\n",
       "      <td>...</td>\n",
       "      <td>...</td>\n",
       "      <td>...</td>\n",
       "      <td>...</td>\n",
       "      <td>...</td>\n",
       "      <td>...</td>\n",
       "      <td>...</td>\n",
       "      <td>...</td>\n",
       "    </tr>\n",
       "    <tr>\n",
       "      <th>5011</th>\n",
       "      <td>1630270</td>\n",
       "      <td>2020</td>\n",
       "      <td>Xavier Sneed</td>\n",
       "      <td>CHA</td>\n",
       "      <td>1610612766</td>\n",
       "      <td>3</td>\n",
       "      <td>5.666667</td>\n",
       "      <td>0.672043</td>\n",
       "      <td>1.680108</td>\n",
       "      <td>0.672043</td>\n",
       "      <td>...</td>\n",
       "      <td>0</td>\n",
       "      <td>500.0</td>\n",
       "      <td>0</td>\n",
       "      <td>0</td>\n",
       "      <td>0</td>\n",
       "      <td>None</td>\n",
       "      <td>0.992</td>\n",
       "      <td>East</td>\n",
       "      <td>24</td>\n",
       "      <td>0.125000</td>\n",
       "    </tr>\n",
       "    <tr>\n",
       "      <th>5012</th>\n",
       "      <td>1630271</td>\n",
       "      <td>2020</td>\n",
       "      <td>Brodric Thomas</td>\n",
       "      <td>HOU</td>\n",
       "      <td>1610612745</td>\n",
       "      <td>7</td>\n",
       "      <td>6.857143</td>\n",
       "      <td>0.720046</td>\n",
       "      <td>2.448157</td>\n",
       "      <td>0.288018</td>\n",
       "      <td>...</td>\n",
       "      <td>0</td>\n",
       "      <td>500.0</td>\n",
       "      <td>0</td>\n",
       "      <td>0</td>\n",
       "      <td>0</td>\n",
       "      <td>None</td>\n",
       "      <td>0.992</td>\n",
       "      <td>West</td>\n",
       "      <td>22</td>\n",
       "      <td>0.318182</td>\n",
       "    </tr>\n",
       "    <tr>\n",
       "      <th>5013</th>\n",
       "      <td>1630273</td>\n",
       "      <td>2020</td>\n",
       "      <td>Freddie Gillespie</td>\n",
       "      <td>DAL</td>\n",
       "      <td>1610612742</td>\n",
       "      <td>1</td>\n",
       "      <td>5.000000</td>\n",
       "      <td>1.008065</td>\n",
       "      <td>2.016129</td>\n",
       "      <td>0.000000</td>\n",
       "      <td>...</td>\n",
       "      <td>0</td>\n",
       "      <td>500.0</td>\n",
       "      <td>0</td>\n",
       "      <td>0</td>\n",
       "      <td>0</td>\n",
       "      <td>None</td>\n",
       "      <td>0.992</td>\n",
       "      <td>West</td>\n",
       "      <td>23</td>\n",
       "      <td>0.043478</td>\n",
       "    </tr>\n",
       "    <tr>\n",
       "      <th>5014</th>\n",
       "      <td>1630278</td>\n",
       "      <td>2020</td>\n",
       "      <td>Ade Murkey</td>\n",
       "      <td>MIN</td>\n",
       "      <td>1610612750</td>\n",
       "      <td>1</td>\n",
       "      <td>3.000000</td>\n",
       "      <td>0.000000</td>\n",
       "      <td>1.008065</td>\n",
       "      <td>0.000000</td>\n",
       "      <td>...</td>\n",
       "      <td>0</td>\n",
       "      <td>500.0</td>\n",
       "      <td>0</td>\n",
       "      <td>0</td>\n",
       "      <td>0</td>\n",
       "      <td>None</td>\n",
       "      <td>0.992</td>\n",
       "      <td>West</td>\n",
       "      <td>22</td>\n",
       "      <td>0.045455</td>\n",
       "    </tr>\n",
       "    <tr>\n",
       "      <th>5015</th>\n",
       "      <td>1962937827</td>\n",
       "      <td>2017</td>\n",
       "      <td>Matt Matt</td>\n",
       "      <td>SAC</td>\n",
       "      <td>1610612758</td>\n",
       "      <td>1</td>\n",
       "      <td>0.000000</td>\n",
       "      <td>0.000000</td>\n",
       "      <td>0.000000</td>\n",
       "      <td>0.000000</td>\n",
       "      <td>...</td>\n",
       "      <td>0</td>\n",
       "      <td>500.0</td>\n",
       "      <td>0</td>\n",
       "      <td>0</td>\n",
       "      <td>0</td>\n",
       "      <td>None</td>\n",
       "      <td>0.973</td>\n",
       "      <td>West</td>\n",
       "      <td>56</td>\n",
       "      <td>0.017857</td>\n",
       "    </tr>\n",
       "  </tbody>\n",
       "</table>\n",
       "<p>5016 rows × 35 columns</p>\n",
       "</div>"
      ],
      "text/plain": [
       "       PLAYER_ID  season        PLAYER_NAME TEAM_ABBREVIATION     TEAM_ID  \\\n",
       "0            255    2012         Grant Hill               LAC  1610612746   \n",
       "1            467    2012         Jason Kidd               NYK  1610612752   \n",
       "2            703    2012        Kurt Thomas               NYK  1610612752   \n",
       "3            708    2012      Kevin Garnett               BOS  1610612738   \n",
       "4            708    2013      Kevin Garnett               BKN  1610612751   \n",
       "...          ...     ...                ...               ...         ...   \n",
       "5011     1630270    2020       Xavier Sneed               CHA  1610612766   \n",
       "5012     1630271    2020     Brodric Thomas               HOU  1610612745   \n",
       "5013     1630273    2020  Freddie Gillespie               DAL  1610612742   \n",
       "5014     1630278    2020         Ade Murkey               MIN  1610612750   \n",
       "5015  1962937827    2017          Matt Matt               SAC  1610612758   \n",
       "\n",
       "      GP_x    Minutes       FGM        FGA      FG3M  ...  Jersey  2KRank  \\\n",
       "0       12  15.500000  1.992754   4.800725  0.090580  ...       0    88.0   \n",
       "1       43  27.674419  2.679474   6.597573  1.971689  ...       0    54.0   \n",
       "2       33  10.121212  1.119895   2.272727  0.000000  ...       0   299.0   \n",
       "3       49  28.959184  6.499556  12.843833  0.000000  ...       0    28.0   \n",
       "4       43  20.372093  3.071055   7.306140  0.000000  ...       1    29.0   \n",
       "...    ...        ...       ...        ...       ...  ...     ...     ...   \n",
       "5011     3   5.666667  0.672043   1.680108  0.672043  ...       0   500.0   \n",
       "5012     7   6.857143  0.720046   2.448157  0.288018  ...       0   500.0   \n",
       "5013     1   5.000000  1.008065   2.016129  0.000000  ...       0   500.0   \n",
       "5014     1   3.000000  0.000000   1.008065  0.000000  ...       0   500.0   \n",
       "5015     1   0.000000  0.000000   0.000000  0.000000  ...       0   500.0   \n",
       "\n",
       "      LastASG?  PriorASG  Selected?  Starting_Position   pace  CONFERENCE  \\\n",
       "0            0         7          0               None  0.920        West   \n",
       "1            0        10          0                  G  0.920        East   \n",
       "2            0         0          0                  F  0.920        East   \n",
       "3            0        14          1                  C  0.920        East   \n",
       "4            1        15          0                  F  0.939        East   \n",
       "...        ...       ...        ...                ...    ...         ...   \n",
       "5011         0         0          0               None  0.992        East   \n",
       "5012         0         0          0               None  0.992        West   \n",
       "5013         0         0          0               None  0.992        West   \n",
       "5014         0         0          0               None  0.992        West   \n",
       "5015         0         0          0               None  0.973        West   \n",
       "\n",
       "      GP_y    GP_Per  \n",
       "0       55  0.218182  \n",
       "1       49  0.877551  \n",
       "2       49  0.673469  \n",
       "3       51  0.960784  \n",
       "4       51  0.843137  \n",
       "...    ...       ...  \n",
       "5011    24  0.125000  \n",
       "5012    22  0.318182  \n",
       "5013    23  0.043478  \n",
       "5014    22  0.045455  \n",
       "5015    56  0.017857  \n",
       "\n",
       "[5016 rows x 35 columns]"
      ]
     },
     "execution_count": 29,
     "metadata": {},
     "output_type": "execute_result"
    }
   ],
   "source": [
    "df"
   ]
  },
  {
   "cell_type": "code",
   "execution_count": 30,
   "metadata": {
    "id": "E-T3CxGvu3Jg"
   },
   "outputs": [],
   "source": [
    "# replace nan with 0\n",
    "df.fillna(0, inplace = True)"
   ]
  },
  {
   "cell_type": "code",
   "execution_count": 31,
   "metadata": {
    "colab": {
     "base_uri": "https://localhost:8080/"
    },
    "id": "jrXd9M96raXz",
    "outputId": "ad36f038-a86b-41b7-ed07-4a7981e20827"
   },
   "outputs": [
    {
     "name": "stdout",
     "output_type": "stream",
     "text": [
      "['Minutes', 'FGM', 'FGA', 'FG3M', 'FG3A', 'FTM', 'FTA', 'OREB', 'DREB', 'AST', 'STL', 'BLK', 'TO', 'PF', 'PTS', 'PLUS_MINUS', 'PER', 'TSP', 'W_PCT', 'Jersey', '2KRank', 'LastASG?', 'PriorASG']\n"
     ]
    }
   ],
   "source": [
    "# Create a list with numeric importatn stats\n",
    "xcols = df.columns[6 : 29].to_list()\n",
    "\n",
    "print(xcols)"
   ]
  },
  {
   "cell_type": "code",
   "execution_count": 32,
   "metadata": {
    "colab": {
     "base_uri": "https://localhost:8080/"
    },
    "id": "MPsHdgrjuVQ-",
    "outputId": "e35c453c-1111-49b5-e6aa-767616aba796"
   },
   "outputs": [
    {
     "name": "stdout",
     "output_type": "stream",
     "text": [
      "training data: (4012, 23)\n",
      "test data: (1004, 23)\n"
     ]
    }
   ],
   "source": [
    "# set train and test up\n",
    "X_train, X_test, y_train, y_test = train_test_split(df[xcols], df['Selected?'], \n",
    "                                                    train_size = 0.8, random_state = 1)\n",
    "print('training data:', X_train.shape)\n",
    "print('test data:', X_test.shape)\n"
   ]
  },
  {
   "cell_type": "code",
   "execution_count": 33,
   "metadata": {
    "id": "MGhY2maFvXEm"
   },
   "outputs": [],
   "source": [
    "X_test.replace([np.inf, -np.inf], np.nan, inplace=True)\n",
    "X_test.fillna(0, inplace=True)\n",
    "X_train.replace([np.inf, -np.inf], np.nan, inplace=True)\n",
    "X_train.fillna(0, inplace=True)"
   ]
  },
  {
   "cell_type": "code",
   "execution_count": 34,
   "metadata": {
    "colab": {
     "base_uri": "https://localhost:8080/"
    },
    "id": "J62ELSYfuxf7",
    "outputId": "5d42d851-5bc3-4506-e2d1-f4f2fc63b610"
   },
   "outputs": [
    {
     "name": "stdout",
     "output_type": "stream",
     "text": [
      "training accuracy: 0.982\n",
      "test accuracy: 0.985\n"
     ]
    }
   ],
   "source": [
    "# logistic regression\n",
    "# even without solver specified, same results are shown\n",
    "log_reg = LogisticRegression(solver = 'lbfgs', max_iter = 3000)\n",
    "\n",
    "# Fit the model to the training data\n",
    "clf = log_reg.fit(X_train, y_train)\n",
    "\n",
    "# Get accuracy stats\n",
    "print('training accuracy: {}'.format(clf.score(X_train, y_train).round(3)))\n",
    "print('test accuracy: {}'.format(clf.score(X_test, y_test).round(3)))"
   ]
  },
  {
   "cell_type": "code",
   "execution_count": 35,
   "metadata": {
    "colab": {
     "base_uri": "https://localhost:8080/"
    },
    "id": "LxViwx3Qwurt",
    "outputId": "1038f297-9c8a-42e5-8dc3-804a40d01633"
   },
   "outputs": [
    {
     "name": "stdout",
     "output_type": "stream",
     "text": [
      "Ten largest positive features:\n",
      "      feature  coefficient\n",
      "18     W_PCT     1.843406\n",
      "11       BLK     0.712372\n",
      "14       PTS     0.675043\n",
      "21  LastASG?     0.467123\n",
      "19    Jersey     0.402801\n",
      "9        AST     0.389626\n",
      "10       STL     0.357567\n",
      "8       DREB     0.324485\n",
      "7       OREB     0.292287\n",
      "3       FG3M     0.210574 \n",
      "\n",
      "Ten largest negative features:\n",
      "     feature  coefficient\n",
      "0   Minutes     0.146525\n",
      "5       FTM     0.134939\n",
      "17      TSP     0.118157\n",
      "20   2KRank    -0.010577\n",
      "12       TO    -0.044405\n",
      "6       FTA    -0.139203\n",
      "16      PER    -0.142049\n",
      "4      FG3A    -0.146052\n",
      "2       FGA    -0.378403\n",
      "13       PF    -0.505643\n"
     ]
    }
   ],
   "source": [
    "# Put the coefficients into a new dataframe\n",
    "coef = pd.concat([pd.DataFrame(xcols),\n",
    "                  pd.DataFrame(np.transpose(clf.coef_))], \n",
    "                 axis = 1)\n",
    "\n",
    "coef.columns = ['feature','coefficient']\n",
    "\n",
    "coef.sort_values(by=['coefficient'], \n",
    "                 ascending = False, \n",
    "                 inplace = True)\n",
    "\n",
    "# Examine the features/stats with the 10 largest positive and negative coefficients\n",
    "print('Ten largest positive features:\\n', coef.head(10), '\\n')\n",
    "print('Ten largest negative features:\\n', coef.tail(10))\n"
   ]
  },
  {
   "cell_type": "code",
   "execution_count": 36,
   "metadata": {
    "colab": {
     "base_uri": "https://localhost:8080/"
    },
    "id": "pAmDnWI_w39D",
    "outputId": "955ce710-9b01-4fca-aff3-52f4050d85b4"
   },
   "outputs": [
    {
     "name": "stdout",
     "output_type": "stream",
     "text": [
      "['W_PCT', 'BLK', 'PTS', 'LastASG?', 'Jersey', 'AST', 'STL', 'DREB', 'OREB', 'FG3M', 'Minutes', 'FTM', 'TSP', '2KRank', 'TO', 'FTA', 'PER', 'FG3A', 'FGA', 'PF']\n"
     ]
    }
   ],
   "source": [
    "# Adding the features with the 10 largest positive and negative coefficients \n",
    "# to a new list for training purposes\n",
    "\n",
    "xcols2 = coef.feature[0:10].to_list()\n",
    "xcols2 += coef.feature[-10:].to_list()\n",
    "print(xcols2)"
   ]
  },
  {
   "cell_type": "code",
   "execution_count": 37,
   "metadata": {
    "colab": {
     "base_uri": "https://localhost:8080/"
    },
    "id": "nHOnew-sw6gt",
    "outputId": "b3306766-ef4d-48dd-cb85-358e152f2ae6"
   },
   "outputs": [
    {
     "name": "stdout",
     "output_type": "stream",
     "text": [
      "training data: (4012, 20)\n",
      "test data: (1004, 20)\n"
     ]
    },
    {
     "name": "stderr",
     "output_type": "stream",
     "text": [
      "C:\\ProgramData\\Anaconda3\\lib\\site-packages\\numpy\\core\\fromnumeric.py:87: RuntimeWarning: invalid value encountered in reduce\n",
      "  return ufunc.reduce(obj, axis, dtype, out, **passkwargs)\n"
     ]
    },
    {
     "ename": "ValueError",
     "evalue": "Input contains NaN, infinity or a value too large for dtype('float64').",
     "output_type": "error",
     "traceback": [
      "\u001b[1;31m---------------------------------------------------------------------------\u001b[0m",
      "\u001b[1;31mValueError\u001b[0m                                Traceback (most recent call last)",
      "\u001b[1;32m<ipython-input-37-c1f52b17f2b1>\u001b[0m in \u001b[0;36m<module>\u001b[1;34m\u001b[0m\n\u001b[0;32m      8\u001b[0m \u001b[1;33m\u001b[0m\u001b[0m\n\u001b[0;32m      9\u001b[0m \u001b[1;31m# fit the model to the training data\u001b[0m\u001b[1;33m\u001b[0m\u001b[1;33m\u001b[0m\u001b[1;33m\u001b[0m\u001b[0m\n\u001b[1;32m---> 10\u001b[1;33m \u001b[0mclf2\u001b[0m \u001b[1;33m=\u001b[0m \u001b[0mlog_reg\u001b[0m\u001b[1;33m.\u001b[0m\u001b[0mfit\u001b[0m\u001b[1;33m(\u001b[0m\u001b[0mX_train\u001b[0m\u001b[1;33m,\u001b[0m \u001b[0my_train\u001b[0m\u001b[1;33m)\u001b[0m\u001b[1;33m\u001b[0m\u001b[1;33m\u001b[0m\u001b[0m\n\u001b[0m\u001b[0;32m     11\u001b[0m \u001b[1;33m\u001b[0m\u001b[0m\n\u001b[0;32m     12\u001b[0m \u001b[1;31m# get accuracy stats\u001b[0m\u001b[1;33m\u001b[0m\u001b[1;33m\u001b[0m\u001b[1;33m\u001b[0m\u001b[0m\n",
      "\u001b[1;32mC:\\ProgramData\\Anaconda3\\lib\\site-packages\\sklearn\\linear_model\\_logistic.py\u001b[0m in \u001b[0;36mfit\u001b[1;34m(self, X, y, sample_weight)\u001b[0m\n\u001b[0;32m   1342\u001b[0m             \u001b[0m_dtype\u001b[0m \u001b[1;33m=\u001b[0m \u001b[1;33m[\u001b[0m\u001b[0mnp\u001b[0m\u001b[1;33m.\u001b[0m\u001b[0mfloat64\u001b[0m\u001b[1;33m,\u001b[0m \u001b[0mnp\u001b[0m\u001b[1;33m.\u001b[0m\u001b[0mfloat32\u001b[0m\u001b[1;33m]\u001b[0m\u001b[1;33m\u001b[0m\u001b[1;33m\u001b[0m\u001b[0m\n\u001b[0;32m   1343\u001b[0m \u001b[1;33m\u001b[0m\u001b[0m\n\u001b[1;32m-> 1344\u001b[1;33m         X, y = self._validate_data(X, y, accept_sparse='csr', dtype=_dtype,\n\u001b[0m\u001b[0;32m   1345\u001b[0m                                    \u001b[0morder\u001b[0m\u001b[1;33m=\u001b[0m\u001b[1;34m\"C\"\u001b[0m\u001b[1;33m,\u001b[0m\u001b[1;33m\u001b[0m\u001b[1;33m\u001b[0m\u001b[0m\n\u001b[0;32m   1346\u001b[0m                                    accept_large_sparse=solver != 'liblinear')\n",
      "\u001b[1;32mC:\\ProgramData\\Anaconda3\\lib\\site-packages\\sklearn\\base.py\u001b[0m in \u001b[0;36m_validate_data\u001b[1;34m(self, X, y, reset, validate_separately, **check_params)\u001b[0m\n\u001b[0;32m    431\u001b[0m                 \u001b[0my\u001b[0m \u001b[1;33m=\u001b[0m \u001b[0mcheck_array\u001b[0m\u001b[1;33m(\u001b[0m\u001b[0my\u001b[0m\u001b[1;33m,\u001b[0m \u001b[1;33m**\u001b[0m\u001b[0mcheck_y_params\u001b[0m\u001b[1;33m)\u001b[0m\u001b[1;33m\u001b[0m\u001b[1;33m\u001b[0m\u001b[0m\n\u001b[0;32m    432\u001b[0m             \u001b[1;32melse\u001b[0m\u001b[1;33m:\u001b[0m\u001b[1;33m\u001b[0m\u001b[1;33m\u001b[0m\u001b[0m\n\u001b[1;32m--> 433\u001b[1;33m                 \u001b[0mX\u001b[0m\u001b[1;33m,\u001b[0m \u001b[0my\u001b[0m \u001b[1;33m=\u001b[0m \u001b[0mcheck_X_y\u001b[0m\u001b[1;33m(\u001b[0m\u001b[0mX\u001b[0m\u001b[1;33m,\u001b[0m \u001b[0my\u001b[0m\u001b[1;33m,\u001b[0m \u001b[1;33m**\u001b[0m\u001b[0mcheck_params\u001b[0m\u001b[1;33m)\u001b[0m\u001b[1;33m\u001b[0m\u001b[1;33m\u001b[0m\u001b[0m\n\u001b[0m\u001b[0;32m    434\u001b[0m             \u001b[0mout\u001b[0m \u001b[1;33m=\u001b[0m \u001b[0mX\u001b[0m\u001b[1;33m,\u001b[0m \u001b[0my\u001b[0m\u001b[1;33m\u001b[0m\u001b[1;33m\u001b[0m\u001b[0m\n\u001b[0;32m    435\u001b[0m \u001b[1;33m\u001b[0m\u001b[0m\n",
      "\u001b[1;32mC:\\ProgramData\\Anaconda3\\lib\\site-packages\\sklearn\\utils\\validation.py\u001b[0m in \u001b[0;36minner_f\u001b[1;34m(*args, **kwargs)\u001b[0m\n\u001b[0;32m     61\u001b[0m             \u001b[0mextra_args\u001b[0m \u001b[1;33m=\u001b[0m \u001b[0mlen\u001b[0m\u001b[1;33m(\u001b[0m\u001b[0margs\u001b[0m\u001b[1;33m)\u001b[0m \u001b[1;33m-\u001b[0m \u001b[0mlen\u001b[0m\u001b[1;33m(\u001b[0m\u001b[0mall_args\u001b[0m\u001b[1;33m)\u001b[0m\u001b[1;33m\u001b[0m\u001b[1;33m\u001b[0m\u001b[0m\n\u001b[0;32m     62\u001b[0m             \u001b[1;32mif\u001b[0m \u001b[0mextra_args\u001b[0m \u001b[1;33m<=\u001b[0m \u001b[1;36m0\u001b[0m\u001b[1;33m:\u001b[0m\u001b[1;33m\u001b[0m\u001b[1;33m\u001b[0m\u001b[0m\n\u001b[1;32m---> 63\u001b[1;33m                 \u001b[1;32mreturn\u001b[0m \u001b[0mf\u001b[0m\u001b[1;33m(\u001b[0m\u001b[1;33m*\u001b[0m\u001b[0margs\u001b[0m\u001b[1;33m,\u001b[0m \u001b[1;33m**\u001b[0m\u001b[0mkwargs\u001b[0m\u001b[1;33m)\u001b[0m\u001b[1;33m\u001b[0m\u001b[1;33m\u001b[0m\u001b[0m\n\u001b[0m\u001b[0;32m     64\u001b[0m \u001b[1;33m\u001b[0m\u001b[0m\n\u001b[0;32m     65\u001b[0m             \u001b[1;31m# extra_args > 0\u001b[0m\u001b[1;33m\u001b[0m\u001b[1;33m\u001b[0m\u001b[1;33m\u001b[0m\u001b[0m\n",
      "\u001b[1;32mC:\\ProgramData\\Anaconda3\\lib\\site-packages\\sklearn\\utils\\validation.py\u001b[0m in \u001b[0;36mcheck_X_y\u001b[1;34m(X, y, accept_sparse, accept_large_sparse, dtype, order, copy, force_all_finite, ensure_2d, allow_nd, multi_output, ensure_min_samples, ensure_min_features, y_numeric, estimator)\u001b[0m\n\u001b[0;32m    812\u001b[0m         \u001b[1;32mraise\u001b[0m \u001b[0mValueError\u001b[0m\u001b[1;33m(\u001b[0m\u001b[1;34m\"y cannot be None\"\u001b[0m\u001b[1;33m)\u001b[0m\u001b[1;33m\u001b[0m\u001b[1;33m\u001b[0m\u001b[0m\n\u001b[0;32m    813\u001b[0m \u001b[1;33m\u001b[0m\u001b[0m\n\u001b[1;32m--> 814\u001b[1;33m     X = check_array(X, accept_sparse=accept_sparse,\n\u001b[0m\u001b[0;32m    815\u001b[0m                     \u001b[0maccept_large_sparse\u001b[0m\u001b[1;33m=\u001b[0m\u001b[0maccept_large_sparse\u001b[0m\u001b[1;33m,\u001b[0m\u001b[1;33m\u001b[0m\u001b[1;33m\u001b[0m\u001b[0m\n\u001b[0;32m    816\u001b[0m                     \u001b[0mdtype\u001b[0m\u001b[1;33m=\u001b[0m\u001b[0mdtype\u001b[0m\u001b[1;33m,\u001b[0m \u001b[0morder\u001b[0m\u001b[1;33m=\u001b[0m\u001b[0morder\u001b[0m\u001b[1;33m,\u001b[0m \u001b[0mcopy\u001b[0m\u001b[1;33m=\u001b[0m\u001b[0mcopy\u001b[0m\u001b[1;33m,\u001b[0m\u001b[1;33m\u001b[0m\u001b[1;33m\u001b[0m\u001b[0m\n",
      "\u001b[1;32mC:\\ProgramData\\Anaconda3\\lib\\site-packages\\sklearn\\utils\\validation.py\u001b[0m in \u001b[0;36minner_f\u001b[1;34m(*args, **kwargs)\u001b[0m\n\u001b[0;32m     61\u001b[0m             \u001b[0mextra_args\u001b[0m \u001b[1;33m=\u001b[0m \u001b[0mlen\u001b[0m\u001b[1;33m(\u001b[0m\u001b[0margs\u001b[0m\u001b[1;33m)\u001b[0m \u001b[1;33m-\u001b[0m \u001b[0mlen\u001b[0m\u001b[1;33m(\u001b[0m\u001b[0mall_args\u001b[0m\u001b[1;33m)\u001b[0m\u001b[1;33m\u001b[0m\u001b[1;33m\u001b[0m\u001b[0m\n\u001b[0;32m     62\u001b[0m             \u001b[1;32mif\u001b[0m \u001b[0mextra_args\u001b[0m \u001b[1;33m<=\u001b[0m \u001b[1;36m0\u001b[0m\u001b[1;33m:\u001b[0m\u001b[1;33m\u001b[0m\u001b[1;33m\u001b[0m\u001b[0m\n\u001b[1;32m---> 63\u001b[1;33m                 \u001b[1;32mreturn\u001b[0m \u001b[0mf\u001b[0m\u001b[1;33m(\u001b[0m\u001b[1;33m*\u001b[0m\u001b[0margs\u001b[0m\u001b[1;33m,\u001b[0m \u001b[1;33m**\u001b[0m\u001b[0mkwargs\u001b[0m\u001b[1;33m)\u001b[0m\u001b[1;33m\u001b[0m\u001b[1;33m\u001b[0m\u001b[0m\n\u001b[0m\u001b[0;32m     64\u001b[0m \u001b[1;33m\u001b[0m\u001b[0m\n\u001b[0;32m     65\u001b[0m             \u001b[1;31m# extra_args > 0\u001b[0m\u001b[1;33m\u001b[0m\u001b[1;33m\u001b[0m\u001b[1;33m\u001b[0m\u001b[0m\n",
      "\u001b[1;32mC:\\ProgramData\\Anaconda3\\lib\\site-packages\\sklearn\\utils\\validation.py\u001b[0m in \u001b[0;36mcheck_array\u001b[1;34m(array, accept_sparse, accept_large_sparse, dtype, order, copy, force_all_finite, ensure_2d, allow_nd, ensure_min_samples, ensure_min_features, estimator)\u001b[0m\n\u001b[0;32m    661\u001b[0m \u001b[1;33m\u001b[0m\u001b[0m\n\u001b[0;32m    662\u001b[0m         \u001b[1;32mif\u001b[0m \u001b[0mforce_all_finite\u001b[0m\u001b[1;33m:\u001b[0m\u001b[1;33m\u001b[0m\u001b[1;33m\u001b[0m\u001b[0m\n\u001b[1;32m--> 663\u001b[1;33m             _assert_all_finite(array,\n\u001b[0m\u001b[0;32m    664\u001b[0m                                allow_nan=force_all_finite == 'allow-nan')\n\u001b[0;32m    665\u001b[0m \u001b[1;33m\u001b[0m\u001b[0m\n",
      "\u001b[1;32mC:\\ProgramData\\Anaconda3\\lib\\site-packages\\sklearn\\utils\\validation.py\u001b[0m in \u001b[0;36m_assert_all_finite\u001b[1;34m(X, allow_nan, msg_dtype)\u001b[0m\n\u001b[0;32m    101\u001b[0m                 not allow_nan and not np.isfinite(X).all()):\n\u001b[0;32m    102\u001b[0m             \u001b[0mtype_err\u001b[0m \u001b[1;33m=\u001b[0m \u001b[1;34m'infinity'\u001b[0m \u001b[1;32mif\u001b[0m \u001b[0mallow_nan\u001b[0m \u001b[1;32melse\u001b[0m \u001b[1;34m'NaN, infinity'\u001b[0m\u001b[1;33m\u001b[0m\u001b[1;33m\u001b[0m\u001b[0m\n\u001b[1;32m--> 103\u001b[1;33m             raise ValueError(\n\u001b[0m\u001b[0;32m    104\u001b[0m                     \u001b[0mmsg_err\u001b[0m\u001b[1;33m.\u001b[0m\u001b[0mformat\u001b[0m\u001b[1;33m\u001b[0m\u001b[1;33m\u001b[0m\u001b[0m\n\u001b[0;32m    105\u001b[0m                     (type_err,\n",
      "\u001b[1;31mValueError\u001b[0m: Input contains NaN, infinity or a value too large for dtype('float64')."
     ]
    }
   ],
   "source": [
    "# test train fpr large coefficients\n",
    "X_train, X_test, y_train, y_test = train_test_split(df[xcols2], \n",
    "                                                    df['Selected?'], \n",
    "                                                    train_size = 0.8, \n",
    "                                                    random_state = 1)\n",
    "print('training data:', X_train.shape)\n",
    "print('test data:', X_test.shape)\n",
    "\n",
    "# fit the model to the training data\n",
    "clf2 = log_reg.fit(X_train, y_train)\n",
    "\n",
    "# get accuracy stats\n",
    "print('training accuracy: {}'.format(clf2.score(X_train, y_train).round(3)))\n",
    "print('test accuracy: {}'.format(clf2.score(X_test, y_test).round(3)))"
   ]
  },
  {
   "cell_type": "code",
   "execution_count": null,
   "metadata": {
    "colab": {
     "base_uri": "https://localhost:8080/"
    },
    "id": "f6AmoSAOxAtk",
    "outputId": "fbd01792-81f4-472b-cb99-c5b0b5c84283"
   },
   "outputs": [],
   "source": [
    "# Regularization with logistic regression & C parameter with logistic regression\n",
    "\n",
    "# high C value means trust the data a lot; low means ehhh\n",
    "cset = [.001, .01, .1, 1, 10]\n",
    "\n",
    "for i in cset:\n",
    "    print('C =', i)\n",
    "    log_reg = LogisticRegression(solver = 'lbfgs', \n",
    "                                 max_iter = 3000, \n",
    "                                 C = i)\n",
    "    \n",
    "    clf = log_reg.fit(X_train, y_train)\n",
    "    \n",
    "    print('training accuracy: {}'.format(clf.score(X_train, y_train).round(3)))\n",
    "    print('test accuracy: {}'.format(clf.score(X_test, y_test).round(3)), '\\n')"
   ]
  },
  {
   "cell_type": "code",
   "execution_count": null,
   "metadata": {
    "colab": {
     "base_uri": "https://localhost:8080/"
    },
    "id": "JvdapQ8zxD67",
    "outputId": "77c4cd8b-2fee-4d03-85ad-6b60aa824088"
   },
   "outputs": [],
   "source": [
    "# Cross-validation with tuning regularization in logistic regression\n",
    "\n",
    "for i in cset:\n",
    "    print('C =', i)\n",
    "    log_reg = LogisticRegression(solver = 'lbfgs', \n",
    "                                 max_iter = 3000, \n",
    "                                 C = i)\n",
    "    \n",
    "    scores = cross_val_score(log_reg, \n",
    "                             df[xcols2], \n",
    "                             df['Selected?'], \n",
    "                             cv = 5)\n",
    "    print(scores)\n",
    "    print('Accuracy: %0.3f (+/- %0.3f)' % (scores.mean(), scores.std() * 2), '\\n')"
   ]
  },
  {
   "cell_type": "code",
   "execution_count": null,
   "metadata": {
    "colab": {
     "base_uri": "https://localhost:8080/"
    },
    "id": "30P7a2BXxMDA",
    "outputId": "ddbcf789-1303-4844-d363-1ea6e0299e0a"
   },
   "outputs": [],
   "source": [
    "\n",
    "y_pred_test = clf.predict(X_test)\n",
    "print('  Recall: {:.3f}'.format(recall_score(y_test, y_pred_test)))\n",
    "print('  Precision: {:.3f}'.format(precision_score(y_test, y_pred_test)))\n",
    "print('  F1 score: {:.3f}'.format(f1_score(y_test, y_pred_test)))\n",
    "cm = confusion_matrix(y_test, y_pred_test)\n",
    "tn, fp, fn, tp = cm.ravel()\n",
    "specificity = tn / (tn+fp)\n",
    "print('  Specificity: {:.3f}'.format(specificity))"
   ]
  },
  {
   "cell_type": "code",
   "execution_count": null,
   "metadata": {
    "colab": {
     "base_uri": "https://localhost:8080/"
    },
    "id": "5Xj8JcduxPKU",
    "outputId": "452a52d9-3559-4fb8-f300-ddfb1dfda73b"
   },
   "outputs": [],
   "source": [
    "# Confusion matrix\n",
    "\n",
    "cm = confusion_matrix(y_test, y_pred_test)\n",
    "sample = np.array([['TN', 'FP'], ['FN', 'TP']])\n",
    "print('CM key:\\n', sample, '\\n')\n",
    "print('CM for test:\\n', cm)"
   ]
  },
  {
   "cell_type": "code",
   "execution_count": null,
   "metadata": {
    "id": "pn94-DhvxRdw"
   },
   "outputs": [],
   "source": [
    "scaler = MinMaxScaler()\n",
    "\n",
    "X = df[xcols2]\n",
    "scaled_X = scaler.fit_transform(X)\n",
    "y = df['Selected?']"
   ]
  },
  {
   "cell_type": "code",
   "execution_count": null,
   "metadata": {
    "colab": {
     "base_uri": "https://localhost:8080/"
    },
    "id": "1ulu5vlhxVPF",
    "outputId": "2c872d50-6966-4910-df9a-ebf5fe62a9a3"
   },
   "outputs": [],
   "source": [
    "\n",
    "scaled_X = scaler.fit_transform(X_train)\n",
    "\n",
    "tuned_parameters = {'C': [0.1, 0.5, 1, 5, 10, 50, 100]}\n",
    "\n",
    "grid = GridSearchCV(LogisticRegression(solver='liblinear'), tuned_parameters, \n",
    "                    cv = 3, scoring = 'accuracy')\n",
    "\n",
    "grid.fit(scaled_X, y_train)\n",
    "\n",
    "print('mean of accuracies:', grid.cv_results_['mean_test_score'])\n",
    "print('std dev of accuracies:', grid.cv_results_['std_test_score'])\n",
    "\n",
    "# print best parameter after tuning \n",
    "print('best parameters:', grid.best_params_) \n",
    "\n",
    "# store the best estimator (In this case it's 'C': 100)\n",
    "best_logreg = grid.best_estimator_"
   ]
  },
  {
   "cell_type": "code",
   "execution_count": null,
   "metadata": {
    "colab": {
     "base_uri": "https://localhost:8080/"
    },
    "id": "aSP_f3PTxYf3",
    "outputId": "5b4e0684-1ecd-4426-e27a-b8853e8cb57f"
   },
   "outputs": [],
   "source": [
    "# Random forest\n",
    "param_grid = {'n_estimators': [10, 100, 250], 'max_samples': [.25, .5, 1]} \n",
    "\n",
    "\n",
    "# instantiate grid search object\n",
    "grid = GridSearchCV(RandomForestClassifier(), param_grid, cv = 3)\n",
    "\n",
    "# fitting the model for grid search \n",
    "grid.fit(X, y)\n",
    "\n",
    "# print parameters, mean, and standard deviation of scores by iteration\n",
    "for z in range(0, len(grid.cv_results_['params'])):\n",
    "    print('\\nparams:', grid.cv_results_['params'][z])\n",
    "    print('mean of accuracies:', grid.cv_results_['mean_test_score'][z])\n",
    "    print('std dev of accuracies:', grid.cv_results_['std_test_score'][z])\n",
    "\n",
    "# print best parameter after tuning \n",
    "print('\\n***best parameters:', grid.best_params_)\n",
    "print('best score:', grid.best_score_)\n",
    "\n",
    "# store the best estimator (in this case it's 'max_samples': 0.5, 'n_estimators': 100)\n",
    "best_rf = grid.best_estimator_"
   ]
  },
  {
   "cell_type": "code",
   "execution_count": null,
   "metadata": {
    "colab": {
     "base_uri": "https://localhost:8080/",
     "height": 541
    },
    "id": "Sg4pHNCx3OIm",
    "outputId": "eaab892e-623b-4d3f-c140-740941987ddd"
   },
   "outputs": [],
   "source": [
    "mydata = grouped[(grouped['season'] == 2020)]\n",
    "mydata = mydata.drop('Selected?', axis=1, errors='coerce')\n",
    "mydata"
   ]
  },
  {
   "cell_type": "code",
   "execution_count": null,
   "metadata": {
    "id": "A9PY7rni36Us"
   },
   "outputs": [],
   "source": [
    "mydata.fillna(0, inplace = True)\n",
    "mydata.replace([np.inf, -np.inf], np.nan, inplace=True)\n",
    "\n",
    "X_test.replace([np.inf, -np.inf], np.nan, inplace=True)\n",
    "X_test.fillna(0, inplace=True)\n",
    "X_train.replace([np.inf, -np.inf], np.nan, inplace=True)\n",
    "X_train.fillna(0, inplace=True)"
   ]
  },
  {
   "cell_type": "code",
   "execution_count": null,
   "metadata": {
    "colab": {
     "base_uri": "https://localhost:8080/"
    },
    "id": "lcug5nsh4IvB",
    "outputId": "8409b5fb-5091-48ea-bf51-08f5c224c429"
   },
   "outputs": [],
   "source": [
    "print(xcols)"
   ]
  },
  {
   "cell_type": "code",
   "execution_count": null,
   "metadata": {
    "colab": {
     "base_uri": "https://localhost:8080/"
    },
    "id": "TdBvcVPn4MS6",
    "outputId": "cacb4d5c-393a-4127-d82d-44af59b3f82b"
   },
   "outputs": [],
   "source": [
    "# time to predict\n",
    "pred = clf.predict(mydata[xcols2])\n",
    "print(pred)"
   ]
  },
  {
   "cell_type": "code",
   "execution_count": null,
   "metadata": {
    "colab": {
     "base_uri": "https://localhost:8080/"
    },
    "id": "9A9L9gHB5AHy",
    "outputId": "07dbaf37-6b46-4b3a-cdbe-17f48e056da3"
   },
   "outputs": [],
   "source": [
    "# add predictions to df\n",
    "mydata['All-Star'] = pred.tolist()\n",
    "print(mydata)"
   ]
  },
  {
   "cell_type": "code",
   "execution_count": null,
   "metadata": {
    "colab": {
     "base_uri": "https://localhost:8080/",
     "height": 1000
    },
    "id": "LKNqRWBQ5Dp8",
    "outputId": "bae1a529-aab3-4f31-f0a5-ff4e47b9cafb"
   },
   "outputs": [],
   "source": [
    "# see the predictions\n",
    "mydata.loc[mydata['All-Star'] == 1]"
   ]
  },
  {
   "cell_type": "markdown",
   "metadata": {
    "id": "mMRqfcylHsT6"
   },
   "source": [
    "Predicted 33 all stars. There were 24 in real life. Is there a way to limit to 24 in the model?"
   ]
  },
  {
   "cell_type": "markdown",
   "metadata": {
    "id": "CP2e0GcIGd16"
   },
   "source": [
    "**Starters:**\n",
    "LeBron James, Anthony Davis, Kawhi Leonard, Luka Doncic, James Harden,\n",
    "Giannis Antetokounmpo, Joel Embiid, Pascal Siakam, Kemba Walker, Trae Young\n",
    "\n",
    "**Reserves:**\n",
    "Damian Lillard, Ben Simmons, Nikola Jokic, Jayson Tatum, Chris Paul, Russell Westbrook, Domantas Sabonis, Khris Middleton, Bam Adebayo, Rudy Gobert, Kyle Lowry, Brandon Ingram, Donovan Mitchell"
   ]
  },
  {
   "cell_type": "markdown",
   "metadata": {
    "id": "XL3RkUqhGvWc"
   },
   "source": [
    "**Starters that were left out:** Pascal Siakam, Kemba Walker\n",
    "\n",
    "**Reserves that were left out:** Chris Paul, Kyle Lowry\n",
    "\n",
    "**MODEL SHOWS 83% ACCURACY OVERALL**"
   ]
  }
 ],
 "metadata": {
  "colab": {
   "collapsed_sections": [],
   "name": "Allstar Final.ipynb",
   "provenance": []
  },
  "kernelspec": {
   "display_name": "Python 3",
   "language": "python",
   "name": "python3"
  },
  "language_info": {
   "codemirror_mode": {
    "name": "ipython",
    "version": 3
   },
   "file_extension": ".py",
   "mimetype": "text/x-python",
   "name": "python",
   "nbconvert_exporter": "python",
   "pygments_lexer": "ipython3",
   "version": "3.8.8"
  }
 },
 "nbformat": 4,
 "nbformat_minor": 1
}
