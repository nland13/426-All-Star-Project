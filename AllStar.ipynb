{
 "cells": [
  {
   "cell_type": "markdown",
   "metadata": {},
   "source": [
    "# Data Collection"
   ]
  },
  {
   "cell_type": "markdown",
   "metadata": {},
   "source": [
    "Load in libraries and datasets. The datasets come from Kaggle, internet sources, and a basketball reference scrape."
   ]
  },
  {
   "cell_type": "code",
   "execution_count": 1,
   "metadata": {},
   "outputs": [],
   "source": [
    "# read in libraries\n",
    "import pandas as pd\n",
    "import numpy as np\n",
    "import pickle\n",
    "pd.options.mode.chained_assignment = None \n",
    "pd.errors.DtypeWarning = None "
   ]
  },
  {
   "cell_type": "code",
   "execution_count": 2,
   "metadata": {},
   "outputs": [
    {
     "name": "stderr",
     "output_type": "stream",
     "text": [
      "C:\\ProgramData\\Anaconda3\\lib\\site-packages\\IPython\\core\\interactiveshell.py:3165: DtypeWarning: Columns (6) have mixed types.Specify dtype option on import or set low_memory=False.\n",
      "  has_raised = await self.run_ast_nodes(code_ast.body, cell_name,\n"
     ]
    }
   ],
   "source": [
    "# read in datasets\n",
    "\n",
    "# kaggle datasets\n",
    "games = pd.read_csv('data/games.csv') \n",
    "games_details = pd.read_csv('data/games_details.csv')\n",
    "players = pd.read_csv('data/players.csv')\n",
    "ranking = pd.read_csv('data/ranking.csv')\n",
    "teams = pd.read_csv('data/teams.csv')\n",
    "\n",
    "# datasets created from internet\n",
    "jersey = pd.read_csv('data/jersey2.csv')\n",
    "twok = pd.read_csv('data/2kRank.csv')\n",
    "pacedata = {'season':[2012,2013,2014,2015,2016,2017,2018,2019,2020],\n",
    "           'pace':[92.0,93.9,93.9,95.8,96.4,97.3,100.0,100.3,99.2]}\n",
    "pace = pd.DataFrame(pacedata)\n",
    "\n",
    "# load in scraped all star info\n",
    "all_star_appearances = pickle.load(open('data/all_star_appearances.pickle', 'rb'))"
   ]
  },
  {
   "cell_type": "markdown",
   "metadata": {},
   "source": [
    "# Data Preparation"
   ]
  },
  {
   "cell_type": "markdown",
   "metadata": {},
   "source": [
    "Merge date to the individual games dataset (one row for every player in every game) and use month and date to label each row with a season. The convention used is the first year in the season is the name of the season (i.e. 2015-2016 is the 2015 season). Then, filter for the relevant time periods, which are the months September through January for the 2012 - 2020 seasons. The 2020 NBA Championship games must then be removed because they took place in September and Ocotber due to postponements caused by COVID-19. There is also an issue with the 2020 data being duplicated so duplicates are removed."
   ]
  },
  {
   "cell_type": "code",
   "execution_count": 3,
   "metadata": {},
   "outputs": [],
   "source": [
    "# join date to individual games stats dataset\n",
    "games_details2 = pd.merge(games_details, games[['GAME_DATE_EST', 'GAME_ID']], on = 'GAME_ID', how = 'left')\n",
    "\n",
    "# extract year and month for every row\n",
    "games_details2['year'] =  pd.to_numeric(games_details2['GAME_DATE_EST'].apply(lambda x: x.split('-')[0]))\n",
    "games_details2['month'] =  pd.to_numeric(games_details2['GAME_DATE_EST'].apply(lambda x: x.split('-')[1]))\n",
    "\n",
    "# label each row with season based on year and month\n",
    "games_details2['season'] = games_details2[['year','month']].apply(lambda x: x['year']-1 if (x['month']==1) else x['year'], axis=1)\n",
    "\n",
    "# keep only game info for September through January in the 2012-2020 seasons\n",
    "games_details2 = games_details2[games_details2['month'].isin([9,10,11,12,1])]\n",
    "games_details3 = games_details2[(games_details2['season']<2021) & (games_details2['season']>2011)]\n",
    "\n",
    "# get rid of 2020 finals\n",
    "games_details3 = games_details3[~((games_details3['season']==2020) & (games_details3['month'].isin([9,10])))]\n",
    "\n",
    "# drop duplicates\n",
    "games_details3 = games_details3.drop_duplicates(subset=['GAME_ID','PLAYER_ID'])"
   ]
  },
  {
   "cell_type": "markdown",
   "metadata": {},
   "source": [
    "Prepares the individual games dataset to be summarized by player and season. It does this by getting rid of rows where the players did not play, getting rid of one erroneous row, extracting the number of minutes they played, and adding a helper column to indicate the player did play in the game."
   ]
  },
  {
   "cell_type": "code",
   "execution_count": 4,
   "metadata": {},
   "outputs": [],
   "source": [
    "# get rid of rows with comments (means they did not play)\n",
    "games_details3 = games_details3[games_details3['COMMENT'].isnull()]\n",
    "\n",
    "# get rid of one erroneous row\n",
    "games_details3 = games_details3[games_details3['PTS'].notnull()]\n",
    "\n",
    "# extract number of minutes played\n",
    "games_details3['minutes'] =  pd.to_numeric(games_details3['MIN'].apply(lambda x: x.split(':')[0]))\n",
    "\n",
    "# add a column to indicate they played in that game (useful for aggregation in next step)\n",
    "games_details3['GP'] = 1"
   ]
  },
  {
   "cell_type": "markdown",
   "metadata": {},
   "source": [
    "Finds the summary statistics by player and season for all the basic stats collected using groupby. This dataset forms the basis for the main dataset going forward."
   ]
  },
  {
   "cell_type": "code",
   "execution_count": 5,
   "metadata": {},
   "outputs": [],
   "source": [
    "# uses groupby to summarize by player and season\n",
    "grouped = games_details3.groupby(['PLAYER_ID','season']).apply(lambda s: pd.Series({ \n",
    "    \"PLAYER_NAME\": s[\"PLAYER_NAME\"].mode()[0],\n",
    "    \"TEAM_ABBREVIATION\": s[\"TEAM_ABBREVIATION\"].mode()[0],\n",
    "    \"TEAM_ID\": s[\"TEAM_ID\"].mode()[0],\n",
    "    \"GP\": s[\"GP\"].sum(),\n",
    "    \"Minutes\": s[\"minutes\"].mean(),\n",
    "    \"FGM\": s[\"FGM\"].mean(),\n",
    "    \"FGA\": s[\"FGA\"].mean(),\n",
    "    \"FG3M\": s[\"FG3M\"].mean(),\n",
    "    \"FG3A\": s[\"FG3A\"].mean(),\n",
    "    \"FTM\": s[\"FTM\"].mean(),\n",
    "    \"FTA\": s[\"FTA\"].mean(),\n",
    "    \"OREB\": s[\"OREB\"].mean(),\n",
    "    \"DREB\": s[\"DREB\"].mean(),\n",
    "    \"AST\": s[\"AST\"].mean(),\n",
    "    \"STL\": s[\"STL\"].mean(),\n",
    "    \"BLK\": s[\"BLK\"].mean(),\n",
    "    \"TO\": s[\"TO\"].mean(), \n",
    "    \"PF\": s[\"PF\"].mean(),\n",
    "    \"PTS\": s[\"PTS\"].mean(),\n",
    "    \"PLUS_MINUS\": s[\"PLUS_MINUS\"].mean(),\n",
    "    \"Starting_Position\": s[\"START_POSITION\"].mode(),\n",
    "})).reset_index()"
   ]
  },
  {
   "cell_type": "markdown",
   "metadata": {},
   "source": [
    "Fix Starting_Position column so that the most common starting position for each player is displayed correctly and those with no information are labeled with \"None\"."
   ]
  },
  {
   "cell_type": "code",
   "execution_count": 6,
   "metadata": {},
   "outputs": [],
   "source": [
    "# Fix Starting_Position column\n",
    "grouped['Starting_Position'] = grouped['Starting_Position'].apply(lambda x: \"None\" if len(x)==0 else x[0])"
   ]
  },
  {
   "cell_type": "markdown",
   "metadata": {},
   "source": [
    "Adjust each season for pace by merging the pace data and dividing the relevant columns by the pace/100."
   ]
  },
  {
   "cell_type": "code",
   "execution_count": 7,
   "metadata": {},
   "outputs": [],
   "source": [
    "# merge pace data\n",
    "grouped = pd.merge(grouped, pace, on = ['season'], how = 'left')\n",
    "\n",
    "# divide pace data by 100\n",
    "grouped['pace'] = grouped['pace']/100\n",
    "\n",
    "# divide relevant statistics by pace/100\n",
    "grouped[['FGM','FGA','FG3M','FG3A','FTM','FTA','OREB',\n",
    "       'DREB', 'AST', 'STL', 'BLK', 'TO', 'PF', 'PTS', 'PLUS_MINUS']] = grouped[['FGM','FGA','FG3M','FG3A','FTM','FTA','OREB',\n",
    "       'DREB', 'AST', 'STL', 'BLK', 'TO', 'PF', 'PTS', 'PLUS_MINUS']].div(grouped.pace, axis=0)"
   ]
  },
  {
   "cell_type": "markdown",
   "metadata": {},
   "source": [
    "Calculate Advanced Metrics PER and True Shooting Percentage."
   ]
  },
  {
   "cell_type": "code",
   "execution_count": 8,
   "metadata": {},
   "outputs": [],
   "source": [
    "# PER\n",
    "grouped['PER'] = (grouped['FGM']*85.910 + grouped['STL']*53.897 + \n",
    "grouped['FG3M']*51.757 + grouped['FTM']*46.845 + grouped['BLK']*39.190\n",
    "+ grouped['OREB']*39.190+ grouped['AST']*34.677 + grouped['DREB']*14.707\n",
    "- grouped['PF']*17.174 - (grouped['FTA']-grouped['FTM'])*20.091 - (grouped['FGA']-grouped['FGM'])*39.190\n",
    "- grouped['TO']*53.897)*(1/grouped['Minutes'])\n",
    "\n",
    "# True Shooting Percentage\n",
    "grouped['TSP'] = grouped['PTS']/(2*(grouped['FGA']+.44*grouped['FTA']))"
   ]
  },
  {
   "cell_type": "markdown",
   "metadata": {},
   "source": [
    "Add each player's team win percentage and team conference for each season as of January 20. This is done first by keeping only the team ranking data as of January 20 for each season and adjusting the season ID to match the season. Then, this data is merged with the main data."
   ]
  },
  {
   "cell_type": "code",
   "execution_count": 9,
   "metadata": {},
   "outputs": [],
   "source": [
    "# keep only January 20 data\n",
    "ranking2 = ranking[(ranking['STANDINGSDATE'].apply(lambda x: x.split('-')[1])=='01') & (ranking['STANDINGSDATE'].apply(lambda x: x.split('-')[2])=='20')]\n",
    "\n",
    "# get season from the year\n",
    "ranking2['season'] = ranking2['SEASON_ID']-20000\n",
    "grouped = pd.merge(grouped, ranking2[['TEAM_ID', 'season','CONFERENCE','W_PCT']], on = ['TEAM_ID','season'], how = 'left')"
   ]
  },
  {
   "cell_type": "markdown",
   "metadata": {},
   "source": [
    "Add if a player's jersey was in the top 15 of best sellers the previous year by merging with jersey data."
   ]
  },
  {
   "cell_type": "code",
   "execution_count": 10,
   "metadata": {},
   "outputs": [],
   "source": [
    "# merge jersey data\n",
    "grouped = pd.merge(grouped, jersey, on = ['season','PLAYER_ID'], how = 'left')"
   ]
  },
  {
   "cell_type": "markdown",
   "metadata": {},
   "source": [
    "Add the players' 2KRank for that season (released before the year starts)."
   ]
  },
  {
   "cell_type": "code",
   "execution_count": 11,
   "metadata": {},
   "outputs": [],
   "source": [
    "# merge 2k data\n",
    "grouped = pd.merge(grouped, twok[['PLAYER_ID','season','2KRank']],on=['PLAYER_ID','season'],how='left')"
   ]
  },
  {
   "cell_type": "markdown",
   "metadata": {},
   "source": [
    "Adds All Star information for each player/season. Specifically, it adds wether a player was an All Star the previous year, the total amount of prior All Star selections a player had, and if a player was selected as an All Star that season (this is the target)."
   ]
  },
  {
   "cell_type": "code",
   "execution_count": 12,
   "metadata": {},
   "outputs": [],
   "source": [
    "# function that defines if a player was an All star the previous year\n",
    "def was_AS_last_year(row):\n",
    "    if row['season'] == 1999:\n",
    "        return 1 if 1998 in all_star_appearances[row['PLAYER_NAME']] else 0\n",
    "    return 1 if row['season'] in all_star_appearances[row['PLAYER_NAME']] else 0\n",
    "\n",
    "# adds if a player was an ALl star the previous year\n",
    "grouped['LastASG?'] = grouped[['PLAYER_NAME', 'season']].apply(was_AS_last_year, axis=1)\n",
    "\n",
    "# adds the total amount of prior selections a player had as of that year (not including that year)\n",
    "grouped['PriorASG'] = grouped[['PLAYER_NAME', 'season']].apply(lambda row : sum(y<=row['season'] for y in all_star_appearances[row['PLAYER_NAME']]), axis=1)\n",
    "\n",
    "# adds wether a player was selected as an all star that year\n",
    "grouped['Selected?'] = grouped[['PLAYER_NAME', 'season']].apply(lambda row : 1 if row['season']+1 in all_star_appearances[row['PLAYER_NAME']] else 0, axis=1)"
   ]
  },
  {
   "cell_type": "markdown",
   "metadata": {},
   "source": [
    "Adjusts for variability in games played up to that point in the season (especially relevant in 2020 season) by calculating the percentage of his team's games a player participated in."
   ]
  },
  {
   "cell_type": "code",
   "execution_count": 13,
   "metadata": {},
   "outputs": [],
   "source": [
    "# get total games played by each team up to that point in each season\n",
    "game_count1 = games_details3.groupby(['season','GAME_ID','TEAM_ID']).GP.mean().reset_index()\n",
    "game_count2 = game_count1.groupby(['season','TEAM_ID']).GP.sum().reset_index()\n",
    "\n",
    "# merges Games Played rate with main dataset\n",
    "grouped = pd.merge(grouped,game_count2,on=['season','TEAM_ID'],how='left')\n",
    "\n",
    "# calculates percentage games played\n",
    "grouped['GP_Per'] = grouped['GP_x'] / grouped['GP_y']"
   ]
  },
  {
   "cell_type": "markdown",
   "metadata": {},
   "source": [
    "Null data is dealt with next, setting missing stats values to zero and giving unranked players a very low rank."
   ]
  },
  {
   "cell_type": "code",
   "execution_count": 14,
   "metadata": {},
   "outputs": [],
   "source": [
    "#fill null values\n",
    "grouped['PLUS_MINUS'] = grouped['PLUS_MINUS'].fillna(0)\n",
    "grouped['TSP'] = grouped['TSP'].fillna(0)\n",
    "grouped['PER'] = grouped['PER'].fillna(0)\n",
    "grouped['2KRank'] = grouped['2KRank'].fillna(500)"
   ]
  },
  {
   "cell_type": "code",
   "execution_count": 15,
   "metadata": {},
   "outputs": [
    {
     "data": {
      "text/plain": [
       "PLAYER_ID            0\n",
       "season               0\n",
       "PLAYER_NAME          0\n",
       "TEAM_ABBREVIATION    0\n",
       "TEAM_ID              0\n",
       "GP_x                 0\n",
       "Minutes              0\n",
       "FGM                  0\n",
       "FGA                  0\n",
       "FG3M                 0\n",
       "FG3A                 0\n",
       "FTM                  0\n",
       "FTA                  0\n",
       "OREB                 0\n",
       "DREB                 0\n",
       "AST                  0\n",
       "STL                  0\n",
       "BLK                  0\n",
       "TO                   0\n",
       "PF                   0\n",
       "PTS                  0\n",
       "PLUS_MINUS           0\n",
       "Starting_Position    0\n",
       "pace                 0\n",
       "PER                  0\n",
       "TSP                  0\n",
       "CONFERENCE           0\n",
       "W_PCT                0\n",
       "Jersey               0\n",
       "2KRank               0\n",
       "LastASG?             0\n",
       "PriorASG             0\n",
       "Selected?            0\n",
       "GP_y                 0\n",
       "GP_Per               0\n",
       "dtype: int64"
      ]
     },
     "execution_count": 15,
     "metadata": {},
     "output_type": "execute_result"
    }
   ],
   "source": [
    "grouped.isnull().sum(axis = 0)"
   ]
  },
  {
   "cell_type": "markdown",
   "metadata": {},
   "source": [
    "In the 2018 season All Star game, Dirk Nowitzki and Dwyane Wade were added as special additions to honor their legacy. They are removed from the dataset to not skew the data."
   ]
  },
  {
   "cell_type": "code",
   "execution_count": 16,
   "metadata": {},
   "outputs": [],
   "source": [
    "grouped.loc[(grouped['PLAYER_NAME']=='Dwyane Wade') & (grouped['season']==2018),'Selected?'] = 0\n",
    "grouped.loc[(grouped['PLAYER_NAME']=='Dirk Nowitzki') & (grouped['season']==2018),'Selected?'] = 0"
   ]
  },
  {
   "cell_type": "markdown",
   "metadata": {},
   "source": [
    "### EDA\n",
    "\n",
    "All Star Participants are picked on a variety of factors, including popular vote, media representation, and peer opinions. A large assumption we made in our project was that these popular or public opinions correlated highly with player statistics. We chose to only consider player statistics in our analysis, because these statistics tend to be highly regarded by the community, and are a good representation of how well a player does, in certain respects. \n",
    "\n",
    "We also used popularity data like Jersey sales to further inform our analysis.\n",
    "\n",
    "Our data set includes the following columns:"
   ]
  },
  {
   "cell_type": "code",
   "execution_count": 17,
   "metadata": {},
   "outputs": [
    {
     "data": {
      "text/plain": [
       "Index(['PLAYER_ID', 'season', 'PLAYER_NAME', 'TEAM_ABBREVIATION', 'TEAM_ID',\n",
       "       'GP_x', 'Minutes', 'FGM', 'FGA', 'FG3M', 'FG3A', 'FTM', 'FTA', 'OREB',\n",
       "       'DREB', 'AST', 'STL', 'BLK', 'TO', 'PF', 'PTS', 'PLUS_MINUS',\n",
       "       'Starting_Position', 'pace', 'PER', 'TSP', 'CONFERENCE', 'W_PCT',\n",
       "       'Jersey', '2KRank', 'LastASG?', 'PriorASG', 'Selected?', 'GP_y',\n",
       "       'GP_Per'],\n",
       "      dtype='object')"
      ]
     },
     "execution_count": 17,
     "metadata": {},
     "output_type": "execute_result"
    }
   ],
   "source": [
    "grouped.columns"
   ]
  },
  {
   "cell_type": "code",
   "execution_count": 18,
   "metadata": {},
   "outputs": [
    {
     "data": {
      "text/plain": [
       "0       0\n",
       "1       0\n",
       "2       0\n",
       "3       0\n",
       "4       1\n",
       "       ..\n",
       "5011    0\n",
       "5012    0\n",
       "5013    0\n",
       "5014    0\n",
       "5015    0\n",
       "Name: LastASG?, Length: 5016, dtype: int64"
      ]
     },
     "execution_count": 18,
     "metadata": {},
     "output_type": "execute_result"
    }
   ],
   "source": [
    "# random eda\n",
    "\n",
    "#grouped[(grouped['Selected?'] == 1) & (grouped['season'] == 2018)]\n",
    "#grouped[grouped['PLAYER_NAME']=='Klay Thompson']\n",
    "#grouped[grouped['PTS']>20].sort_values(by=['W_PCT'],ascending=False).head(10)\n",
    "grouped['LastASG?']"
   ]
  },
  {
   "cell_type": "markdown",
   "metadata": {},
   "source": [
    "The stats are computed as average per game, unless otherwise noted.\n",
    "Here is a table with the column definitions\n",
    "\n",
    "| Column/Variable Name | Definition |\n",
    "|----------------------|----------- |\n",
    "|`PLAYER_ID`| Unique identifier for the player |\n",
    "|`season`| Season or year of the data |\n",
    "|`PLAYER_NAME` | Name of the player |\n",
    "|`TEAM_ABBREVIATION`| The team the player is playing for|\n",
    "|`TEAM_ID`| Unique identifier for the player|\n",
    "|`GP_x`| *blank* |\n",
    "|`Minutes` | Number of minutes the player was in the game|\n",
    "|`FGM` | Field Goals made (2-pointers and 3-pointers)|\n",
    "|`FGA` | Field Goals attempted (2-pointers and 3-pointers)|\n",
    "|`FG3M` | 3-pointers made |\n",
    "|`FG3A` | 3-pointers atempted |\n",
    "|`FTM` | Free Throws made |\n",
    "|`FTA`| Free Throws attempted |\n",
    "|`OREB`| The number of rebounds a player or team has collected while they were on offense |\n",
    "|` DREB`| The number of rebounds a player or team has collected while they were on defense |\n",
    "|`AST`| The number of assists made |\n",
    "|`STL`| The number of steals made while on defense |\n",
    "|`BLK` | The number of successful blocks made while on defense |\n",
    "|`TO` | The number of turnovers |\n",
    "|`PF` | Number of Personal fouls |\n",
    "|`PTS` | Number of Points the player scored |\n",
    "|`PLUS_MINUS`| *blank* |\n",
    "|`Starting_Position`| The position the player most often started in|\n",
    "|`pace` | The number of possessions per 48 minutes for a player|\n",
    "|`PER` | An advanced metric used to rank players |\n",
    "|`TSP` | True Shooting percentage |\n",
    "|`CONFERENCE` | Which conference the player is in |\n",
    "|`W_PCT` | *blank*|\n",
    "|`Jersey` | Boolean to indicate whether the players jersey was in the top 15 in sales |\n",
    "|`2KRank` | The overall 2K rank of the player before the season started |\n",
    "|`LastASG?` | Boolean of whether the player participated in the season prior's All Star game |\n",
    "|`PriorASG?` | Boolean of whether the player has participated in an All Star game prior to the current season |\n",
    "|`Selected?`| Whether the player was selected for the current year's All Star Game |\n",
    "|`GP_y` | *blank* |\n",
    "|`GP_Per` | Percentage of games played in the season |\n"
   ]
  },
  {
   "cell_type": "markdown",
   "metadata": {},
   "source": [
    "Let's take a look at some of the stats, and how they are spread:"
   ]
  },
  {
   "cell_type": "code",
   "execution_count": null,
   "metadata": {},
   "outputs": [],
   "source": []
  }
 ],
 "metadata": {
  "kernelspec": {
   "display_name": "Python 3",
   "language": "python",
   "name": "python3"
  },
  "language_info": {
   "codemirror_mode": {
    "name": "ipython",
    "version": 3
   },
   "file_extension": ".py",
   "mimetype": "text/x-python",
   "name": "python",
   "nbconvert_exporter": "python",
   "pygments_lexer": "ipython3",
   "version": "3.8.8"
  }
 },
 "nbformat": 4,
 "nbformat_minor": 4
}
